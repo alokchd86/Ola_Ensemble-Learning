{
 "cells": [
  {
   "cell_type": "code",
   "execution_count": 2,
   "id": "2fdb1c0e",
   "metadata": {},
   "outputs": [],
   "source": [
    "import pandas as pd\n",
    "import numpy as np\n",
    "import seaborn as sns\n",
    "from scipy import stats \n",
    "import matplotlib.pyplot as plt\n",
    "from sklearn import metrics\n",
    "from sklearn.model_selection import train_test_split, KFold, cross_val_score\n",
    "from sklearn.preprocessing import MinMaxScaler\n",
    "from sklearn.impute import KNNImputer\n",
    "from sklearn.metrics import precision_score, recall_score, f1_score\n",
    "import warnings\n",
    "warnings.filterwarnings(\"ignore\")"
   ]
  },
  {
   "cell_type": "code",
   "execution_count": 3,
   "id": "ef01caa9",
   "metadata": {},
   "outputs": [],
   "source": [
    "df = pd.read_csv('C:/Scaler_DSML/Project/ola_ensemble/ola_driver_scaler.csv')"
   ]
  },
  {
   "cell_type": "code",
   "execution_count": 4,
   "id": "15921231",
   "metadata": {},
   "outputs": [
    {
     "data": {
      "text/html": [
       "<div>\n",
       "<style scoped>\n",
       "    .dataframe tbody tr th:only-of-type {\n",
       "        vertical-align: middle;\n",
       "    }\n",
       "\n",
       "    .dataframe tbody tr th {\n",
       "        vertical-align: top;\n",
       "    }\n",
       "\n",
       "    .dataframe thead th {\n",
       "        text-align: right;\n",
       "    }\n",
       "</style>\n",
       "<table border=\"1\" class=\"dataframe\">\n",
       "  <thead>\n",
       "    <tr style=\"text-align: right;\">\n",
       "      <th></th>\n",
       "      <th>Unnamed: 0</th>\n",
       "      <th>MMM-YY</th>\n",
       "      <th>Driver_ID</th>\n",
       "      <th>Age</th>\n",
       "      <th>Gender</th>\n",
       "      <th>City</th>\n",
       "      <th>Education_Level</th>\n",
       "      <th>Income</th>\n",
       "      <th>Dateofjoining</th>\n",
       "      <th>LastWorkingDate</th>\n",
       "      <th>Joining Designation</th>\n",
       "      <th>Grade</th>\n",
       "      <th>Total Business Value</th>\n",
       "      <th>Quarterly Rating</th>\n",
       "    </tr>\n",
       "  </thead>\n",
       "  <tbody>\n",
       "    <tr>\n",
       "      <th>0</th>\n",
       "      <td>0</td>\n",
       "      <td>01/01/19</td>\n",
       "      <td>1</td>\n",
       "      <td>28.0</td>\n",
       "      <td>0.0</td>\n",
       "      <td>C23</td>\n",
       "      <td>2</td>\n",
       "      <td>57387</td>\n",
       "      <td>24/12/18</td>\n",
       "      <td>NaN</td>\n",
       "      <td>1</td>\n",
       "      <td>1</td>\n",
       "      <td>2381060</td>\n",
       "      <td>2</td>\n",
       "    </tr>\n",
       "    <tr>\n",
       "      <th>1</th>\n",
       "      <td>1</td>\n",
       "      <td>02/01/19</td>\n",
       "      <td>1</td>\n",
       "      <td>28.0</td>\n",
       "      <td>0.0</td>\n",
       "      <td>C23</td>\n",
       "      <td>2</td>\n",
       "      <td>57387</td>\n",
       "      <td>24/12/18</td>\n",
       "      <td>NaN</td>\n",
       "      <td>1</td>\n",
       "      <td>1</td>\n",
       "      <td>-665480</td>\n",
       "      <td>2</td>\n",
       "    </tr>\n",
       "    <tr>\n",
       "      <th>2</th>\n",
       "      <td>2</td>\n",
       "      <td>03/01/19</td>\n",
       "      <td>1</td>\n",
       "      <td>28.0</td>\n",
       "      <td>0.0</td>\n",
       "      <td>C23</td>\n",
       "      <td>2</td>\n",
       "      <td>57387</td>\n",
       "      <td>24/12/18</td>\n",
       "      <td>03/11/19</td>\n",
       "      <td>1</td>\n",
       "      <td>1</td>\n",
       "      <td>0</td>\n",
       "      <td>2</td>\n",
       "    </tr>\n",
       "    <tr>\n",
       "      <th>3</th>\n",
       "      <td>3</td>\n",
       "      <td>11/01/20</td>\n",
       "      <td>2</td>\n",
       "      <td>31.0</td>\n",
       "      <td>0.0</td>\n",
       "      <td>C7</td>\n",
       "      <td>2</td>\n",
       "      <td>67016</td>\n",
       "      <td>11/06/20</td>\n",
       "      <td>NaN</td>\n",
       "      <td>2</td>\n",
       "      <td>2</td>\n",
       "      <td>0</td>\n",
       "      <td>1</td>\n",
       "    </tr>\n",
       "    <tr>\n",
       "      <th>4</th>\n",
       "      <td>4</td>\n",
       "      <td>12/01/20</td>\n",
       "      <td>2</td>\n",
       "      <td>31.0</td>\n",
       "      <td>0.0</td>\n",
       "      <td>C7</td>\n",
       "      <td>2</td>\n",
       "      <td>67016</td>\n",
       "      <td>11/06/20</td>\n",
       "      <td>NaN</td>\n",
       "      <td>2</td>\n",
       "      <td>2</td>\n",
       "      <td>0</td>\n",
       "      <td>1</td>\n",
       "    </tr>\n",
       "  </tbody>\n",
       "</table>\n",
       "</div>"
      ],
      "text/plain": [
       "   Unnamed: 0    MMM-YY  Driver_ID   Age  Gender City  Education_Level  \\\n",
       "0           0  01/01/19          1  28.0     0.0  C23                2   \n",
       "1           1  02/01/19          1  28.0     0.0  C23                2   \n",
       "2           2  03/01/19          1  28.0     0.0  C23                2   \n",
       "3           3  11/01/20          2  31.0     0.0   C7                2   \n",
       "4           4  12/01/20          2  31.0     0.0   C7                2   \n",
       "\n",
       "   Income Dateofjoining LastWorkingDate  Joining Designation  Grade  \\\n",
       "0   57387      24/12/18             NaN                    1      1   \n",
       "1   57387      24/12/18             NaN                    1      1   \n",
       "2   57387      24/12/18        03/11/19                    1      1   \n",
       "3   67016      11/06/20             NaN                    2      2   \n",
       "4   67016      11/06/20             NaN                    2      2   \n",
       "\n",
       "   Total Business Value  Quarterly Rating  \n",
       "0               2381060                 2  \n",
       "1               -665480                 2  \n",
       "2                     0                 2  \n",
       "3                     0                 1  \n",
       "4                     0                 1  "
      ]
     },
     "execution_count": 4,
     "metadata": {},
     "output_type": "execute_result"
    }
   ],
   "source": [
    "df.head()"
   ]
  },
  {
   "cell_type": "code",
   "execution_count": 5,
   "id": "13d1d015",
   "metadata": {},
   "outputs": [],
   "source": [
    "# df.drop(['Unnamed: 0','MMM-YY'], axis=1, inplace=True)\n",
    "df.drop(['Unnamed: 0'], axis=1, inplace=True)"
   ]
  },
  {
   "cell_type": "code",
   "execution_count": 6,
   "id": "50143790",
   "metadata": {},
   "outputs": [
    {
     "data": {
      "text/plain": [
       "Index(['MMM-YY', 'Driver_ID', 'Age', 'Gender', 'City', 'Education_Level',\n",
       "       'Income', 'Dateofjoining', 'LastWorkingDate', 'Joining Designation',\n",
       "       'Grade', 'Total Business Value', 'Quarterly Rating'],\n",
       "      dtype='object')"
      ]
     },
     "execution_count": 6,
     "metadata": {},
     "output_type": "execute_result"
    }
   ],
   "source": [
    "df.columns"
   ]
  },
  {
   "cell_type": "markdown",
   "id": "2301d882",
   "metadata": {},
   "source": [
    "###\tAnalyzing basic metrics\n",
    "\n",
    "##### o\tShape of data: Total of 19104 rows × 14 columns"
   ]
  },
  {
   "cell_type": "markdown",
   "id": "1aa4bfac",
   "metadata": {},
   "source": [
    "##### o\tData types of all the attributes as received in source: "
   ]
  },
  {
   "cell_type": "code",
   "execution_count": 7,
   "id": "2cb99e46",
   "metadata": {},
   "outputs": [
    {
     "name": "stdout",
     "output_type": "stream",
     "text": [
      "<class 'pandas.core.frame.DataFrame'>\n",
      "RangeIndex: 19104 entries, 0 to 19103\n",
      "Data columns (total 13 columns):\n",
      " #   Column                Non-Null Count  Dtype  \n",
      "---  ------                --------------  -----  \n",
      " 0   MMM-YY                19104 non-null  object \n",
      " 1   Driver_ID             19104 non-null  int64  \n",
      " 2   Age                   19043 non-null  float64\n",
      " 3   Gender                19052 non-null  float64\n",
      " 4   City                  19104 non-null  object \n",
      " 5   Education_Level       19104 non-null  int64  \n",
      " 6   Income                19104 non-null  int64  \n",
      " 7   Dateofjoining         19104 non-null  object \n",
      " 8   LastWorkingDate       1616 non-null   object \n",
      " 9   Joining Designation   19104 non-null  int64  \n",
      " 10  Grade                 19104 non-null  int64  \n",
      " 11  Total Business Value  19104 non-null  int64  \n",
      " 12  Quarterly Rating      19104 non-null  int64  \n",
      "dtypes: float64(2), int64(7), object(4)\n",
      "memory usage: 1.9+ MB\n"
     ]
    }
   ],
   "source": [
    "df.info()"
   ]
  },
  {
   "cell_type": "markdown",
   "id": "33b08092",
   "metadata": {},
   "source": [
    "### Identifying the `Missing values` across the all variables: "
   ]
  },
  {
   "cell_type": "code",
   "execution_count": 8,
   "id": "f1b7e420",
   "metadata": {},
   "outputs": [
    {
     "data": {
      "text/plain": [
       "Age                   61\n",
       "Gender                52\n",
       "LastWorkingDate    17488\n",
       "dtype: int64"
      ]
     },
     "execution_count": 8,
     "metadata": {},
     "output_type": "execute_result"
    }
   ],
   "source": [
    "df[df.columns[df.isnull().any()]].isnull().sum()"
   ]
  },
  {
   "cell_type": "markdown",
   "id": "ec80c17d",
   "metadata": {},
   "source": [
    "### Checking null percentage"
   ]
  },
  {
   "cell_type": "code",
   "execution_count": 9,
   "id": "381c654d",
   "metadata": {},
   "outputs": [
    {
     "data": {
      "text/plain": [
       "Age                 0.319305\n",
       "Gender              0.272194\n",
       "LastWorkingDate    91.541039\n",
       "dtype: float64"
      ]
     },
     "execution_count": 9,
     "metadata": {},
     "output_type": "execute_result"
    }
   ],
   "source": [
    "df[df.columns[df.isnull().any()]].isnull().sum() * 100 / df.shape[0]"
   ]
  },
  {
   "cell_type": "code",
   "execution_count": 10,
   "id": "8ca8e26d",
   "metadata": {},
   "outputs": [
    {
     "data": {
      "text/plain": [
       "0.0    58.125131\n",
       "1.0    41.874869\n",
       "Name: Gender, dtype: float64"
      ]
     },
     "execution_count": 10,
     "metadata": {},
     "output_type": "execute_result"
    }
   ],
   "source": [
    "df.Gender.value_counts(normalize=True)*100"
   ]
  },
  {
   "cell_type": "markdown",
   "id": "9866ea8e",
   "metadata": {},
   "source": [
    "### Count duplicate rows on entire dataframe:"
   ]
  },
  {
   "cell_type": "code",
   "execution_count": 11,
   "id": "4965821e",
   "metadata": {},
   "outputs": [
    {
     "data": {
      "text/plain": [
       "0"
      ]
     },
     "execution_count": 11,
     "metadata": {},
     "output_type": "execute_result"
    }
   ],
   "source": [
    "len(df)-len(df.drop_duplicates())"
   ]
  },
  {
   "cell_type": "code",
   "execution_count": 12,
   "id": "6f91798a",
   "metadata": {},
   "outputs": [],
   "source": [
    "# (df[~df.LastWorkingDate.isna()]).loc[:,'Total Business Value'].value_counts()"
   ]
  },
  {
   "cell_type": "markdown",
   "id": "f955315e",
   "metadata": {},
   "source": [
    "### Checking the unique value counts in columns\n",
    "* We’ll remove columns with only one unique value because their variance<br>\n",
    "    will be 0 and they won’t help us anticipate anything."
   ]
  },
  {
   "cell_type": "code",
   "execution_count": 13,
   "id": "46d35182",
   "metadata": {},
   "outputs": [
    {
     "name": "stdout",
     "output_type": "stream",
     "text": [
      "Columns having 1 unique value are : []\n"
     ]
    }
   ],
   "source": [
    "data = df\n",
    "featureValues={}\n",
    "for d in data.columns.tolist():\n",
    "    count=data[d].nunique()\n",
    "    if count==1:\n",
    "        featureValues[d]=count\n",
    "# List of columns having same 1 unique value        \n",
    "cols_to_drop= list(featureValues.keys())\n",
    "print(\"Columns having 1 unique value are :\",cols_to_drop)"
   ]
  },
  {
   "cell_type": "markdown",
   "id": "44123529",
   "metadata": {},
   "source": [
    "### >`Convert Object to datetime type `<"
   ]
  },
  {
   "cell_type": "code",
   "execution_count": 14,
   "id": "28d3177a",
   "metadata": {},
   "outputs": [],
   "source": [
    "df[['MMM-YY', 'Dateofjoining', 'LastWorkingDate']] = df[\n",
    "    ['MMM-YY', 'Dateofjoining', 'LastWorkingDate']].apply(pd.to_datetime)"
   ]
  },
  {
   "cell_type": "markdown",
   "id": "3832dec6",
   "metadata": {},
   "source": [
    "### >>`Understand Categorical features ` <<"
   ]
  },
  {
   "cell_type": "markdown",
   "id": "0303d57b",
   "metadata": {},
   "source": [
    "#### o\tConversion of categorical attributes to 'category':\n",
    "* It has helped in reduction of memory usage."
   ]
  },
  {
   "cell_type": "markdown",
   "id": "6224ce23",
   "metadata": {},
   "source": [
    "### `Update Numeric Ordinal data to category type:`"
   ]
  },
  {
   "cell_type": "code",
   "execution_count": 15,
   "id": "4bf9dd5a",
   "metadata": {},
   "outputs": [],
   "source": [
    "df[['City','Gender','Education_Level','Joining Designation','Grade', 'Quarterly Rating']]=df[\n",
    "    ['City','Gender','Education_Level','Joining Designation','Grade', 'Quarterly Rating']].astype('category')"
   ]
  },
  {
   "cell_type": "code",
   "execution_count": 16,
   "id": "d858e535",
   "metadata": {},
   "outputs": [],
   "source": [
    "cat_cols = df.dtypes =='category'\n",
    "cat_cols = list(cat_cols[cat_cols].index)"
   ]
  },
  {
   "cell_type": "code",
   "execution_count": 17,
   "id": "3bd7cf96",
   "metadata": {},
   "outputs": [
    {
     "name": "stdout",
     "output_type": "stream",
     "text": [
      "<class 'pandas.core.frame.DataFrame'>\n",
      "RangeIndex: 19104 entries, 0 to 19103\n",
      "Data columns (total 6 columns):\n",
      " #   Column               Non-Null Count  Dtype   \n",
      "---  ------               --------------  -----   \n",
      " 0   Gender               19052 non-null  category\n",
      " 1   City                 19104 non-null  category\n",
      " 2   Education_Level      19104 non-null  category\n",
      " 3   Joining Designation  19104 non-null  category\n",
      " 4   Grade                19104 non-null  category\n",
      " 5   Quarterly Rating     19104 non-null  category\n",
      "dtypes: category(6)\n",
      "memory usage: 114.2 KB\n"
     ]
    }
   ],
   "source": [
    "df[cat_cols].info()"
   ]
  },
  {
   "cell_type": "code",
   "execution_count": 18,
   "id": "4849ca16",
   "metadata": {},
   "outputs": [
    {
     "data": {
      "text/html": [
       "<div>\n",
       "<style scoped>\n",
       "    .dataframe tbody tr th:only-of-type {\n",
       "        vertical-align: middle;\n",
       "    }\n",
       "\n",
       "    .dataframe tbody tr th {\n",
       "        vertical-align: top;\n",
       "    }\n",
       "\n",
       "    .dataframe thead th {\n",
       "        text-align: right;\n",
       "    }\n",
       "</style>\n",
       "<table border=\"1\" class=\"dataframe\">\n",
       "  <thead>\n",
       "    <tr style=\"text-align: right;\">\n",
       "      <th></th>\n",
       "      <th>Gender</th>\n",
       "      <th>City</th>\n",
       "      <th>Education_Level</th>\n",
       "      <th>Joining Designation</th>\n",
       "      <th>Grade</th>\n",
       "      <th>Quarterly Rating</th>\n",
       "    </tr>\n",
       "  </thead>\n",
       "  <tbody>\n",
       "    <tr>\n",
       "      <th>count</th>\n",
       "      <td>19052.0</td>\n",
       "      <td>19104</td>\n",
       "      <td>19104</td>\n",
       "      <td>19104</td>\n",
       "      <td>19104</td>\n",
       "      <td>19104</td>\n",
       "    </tr>\n",
       "    <tr>\n",
       "      <th>unique</th>\n",
       "      <td>2.0</td>\n",
       "      <td>29</td>\n",
       "      <td>3</td>\n",
       "      <td>5</td>\n",
       "      <td>5</td>\n",
       "      <td>4</td>\n",
       "    </tr>\n",
       "    <tr>\n",
       "      <th>top</th>\n",
       "      <td>0.0</td>\n",
       "      <td>C20</td>\n",
       "      <td>1</td>\n",
       "      <td>1</td>\n",
       "      <td>2</td>\n",
       "      <td>1</td>\n",
       "    </tr>\n",
       "    <tr>\n",
       "      <th>freq</th>\n",
       "      <td>11074.0</td>\n",
       "      <td>1008</td>\n",
       "      <td>6864</td>\n",
       "      <td>9831</td>\n",
       "      <td>6627</td>\n",
       "      <td>7679</td>\n",
       "    </tr>\n",
       "  </tbody>\n",
       "</table>\n",
       "</div>"
      ],
      "text/plain": [
       "         Gender   City  Education_Level  Joining Designation  Grade  \\\n",
       "count   19052.0  19104            19104                19104  19104   \n",
       "unique      2.0     29                3                    5      5   \n",
       "top         0.0    C20                1                    1      2   \n",
       "freq    11074.0   1008             6864                 9831   6627   \n",
       "\n",
       "        Quarterly Rating  \n",
       "count              19104  \n",
       "unique                 4  \n",
       "top                    1  \n",
       "freq                7679  "
      ]
     },
     "execution_count": 18,
     "metadata": {},
     "output_type": "execute_result"
    }
   ],
   "source": [
    "df[cat_cols].describe()"
   ]
  },
  {
   "cell_type": "markdown",
   "id": "fac1b064",
   "metadata": {},
   "source": [
    "### `1. 'City' variable stats`\n",
    "* Total of 29 cities\n",
    "* C20 city has highest drivers 1008, then city 'C29' with 900 drivers.\n",
    "* No Nulls in this variable"
   ]
  },
  {
   "cell_type": "code",
   "execution_count": 19,
   "id": "f7711f9d",
   "metadata": {},
   "outputs": [
    {
     "data": {
      "text/plain": [
       "[Text(0, 0, '1008'),\n",
       " Text(0, 0, '900'),\n",
       " Text(0, 0, '869'),\n",
       " Text(0, 0, '809'),\n",
       " Text(0, 0, '786'),\n",
       " Text(0, 0, '761'),\n",
       " Text(0, 0, '744'),\n",
       " Text(0, 0, '727'),\n",
       " Text(0, 0, '712'),\n",
       " Text(0, 0, '709'),\n",
       " Text(0, 0, '683'),\n",
       " Text(0, 0, '677'),\n",
       " Text(0, 0, '660'),\n",
       " Text(0, 0, '656'),\n",
       " Text(0, 0, '648'),\n",
       " Text(0, 0, '637'),\n",
       " Text(0, 0, '614'),\n",
       " Text(0, 0, '609'),\n",
       " Text(0, 0, '603'),\n",
       " Text(0, 0, '584'),\n",
       " Text(0, 0, '579'),\n",
       " Text(0, 0, '578'),\n",
       " Text(0, 0, '569'),\n",
       " Text(0, 0, '544'),\n",
       " Text(0, 0, '538'),\n",
       " Text(0, 0, '520'),\n",
       " Text(0, 0, '472'),\n",
       " Text(0, 0, '468'),\n",
       " Text(0, 0, '440')]"
      ]
     },
     "execution_count": 19,
     "metadata": {},
     "output_type": "execute_result"
    },
    {
     "data": {
      "image/png": "[encoded data removed]",
      "text/plain": [
       "<Figure size 432x288 with 1 Axes>"
      ]
     },
     "metadata": {
      "needs_background": "light"
     },
     "output_type": "display_data"
    }
   ],
   "source": [
    "sns.set(rc={'figure.figsize':(12,5)})\n",
    "ax = sns.countplot(data=df,x=\"City\",order = df.City.value_counts().index)\n",
    "ax.bar_label(container=ax.containers[0])"
   ]
  },
  {
   "cell_type": "markdown",
   "id": "ec95a9f8",
   "metadata": {},
   "source": [
    "### `2. 'Education Level' variable stats`\n",
    "* 0,1,2 are three categories of Education Level\n",
    "* All Education_Level have close to equal percentage of drivers.\n",
    "* No Nulls in this variable"
   ]
  },
  {
   "cell_type": "code",
   "execution_count": 20,
   "id": "63df401a",
   "metadata": {},
   "outputs": [
    {
     "data": {
      "text/plain": [
       "1    35.929648\n",
       "2    33.118719\n",
       "0    30.951633\n",
       "Name: Education_Level, dtype: float64"
      ]
     },
     "execution_count": 20,
     "metadata": {},
     "output_type": "execute_result"
    }
   ],
   "source": [
    "df[\"Education_Level\"].value_counts(normalize=True)*100"
   ]
  },
  {
   "cell_type": "code",
   "execution_count": 21,
   "id": "fbcd0ffd",
   "metadata": {},
   "outputs": [
    {
     "data": {
      "text/plain": [
       "[Text(0, 0, '6864'), Text(0, 0, '6327'), Text(0, 0, '5913')]"
      ]
     },
     "execution_count": 21,
     "metadata": {},
     "output_type": "execute_result"
    },
    {
     "data": {
      "image/png": "[encoded data removed]",
      "text/plain": [
       "<Figure size 360x288 with 1 Axes>"
      ]
     },
     "metadata": {},
     "output_type": "display_data"
    }
   ],
   "source": [
    "sns.set(rc={'figure.figsize':(5,4)})\n",
    "ax=sns.countplot(data=df,x=\"Education_Level\",order = df.Education_Level.value_counts().index)\n",
    "ax.bar_label(container=ax.containers[0])"
   ]
  },
  {
   "cell_type": "markdown",
   "id": "4b5000ef",
   "metadata": {},
   "source": [
    "### `3. 'Joining Designation' variable stats`\n",
    "* 51% (9831 rows) of drivers join on Designation 1, followed by '2' with 31% (5955 rows)\n",
    "* No Nulls in this variable"
   ]
  },
  {
   "cell_type": "code",
   "execution_count": 22,
   "id": "23689c55",
   "metadata": {},
   "outputs": [
    {
     "data": {
      "text/plain": [
       "1    51.460427\n",
       "2    31.171482\n",
       "3    14.902638\n",
       "4     1.784966\n",
       "5     0.680486\n",
       "Name: Joining Designation, dtype: float64"
      ]
     },
     "execution_count": 22,
     "metadata": {},
     "output_type": "execute_result"
    }
   ],
   "source": [
    "df[\"Joining Designation\"].value_counts(normalize=True)*100"
   ]
  },
  {
   "cell_type": "code",
   "execution_count": 23,
   "id": "f23788a7",
   "metadata": {},
   "outputs": [
    {
     "data": {
      "text/plain": [
       "[Text(0, 0, '9831'),\n",
       " Text(0, 0, '5955'),\n",
       " Text(0, 0, '2847'),\n",
       " Text(0, 0, '341'),\n",
       " Text(0, 0, '130')]"
      ]
     },
     "execution_count": 23,
     "metadata": {},
     "output_type": "execute_result"
    },
    {
     "data": {
      "image/png": "[encoded data removed]",
      "text/plain": [
       "<Figure size 432x288 with 1 Axes>"
      ]
     },
     "metadata": {},
     "output_type": "display_data"
    }
   ],
   "source": [
    "sns.set(rc={'figure.figsize':(6,4)})\n",
    "ax=sns.countplot(data=df,x=\"Joining Designation\",order = df[\"Joining Designation\"].value_counts().index)\n",
    "ax.bar_label(container=ax.containers[0])"
   ]
  },
  {
   "cell_type": "markdown",
   "id": "774b5de0",
   "metadata": {},
   "source": [
    "### `4.  'Grade' variable stats`\n",
    "* 34% (6627 rows) of drivers have Grade 2, followed by Grade '1' with 27% (5202 rows)\n",
    "* No Nulls in this variable"
   ]
  },
  {
   "cell_type": "code",
   "execution_count": 24,
   "id": "b06261f4",
   "metadata": {},
   "outputs": [
    {
     "data": {
      "text/plain": [
       "2    34.689070\n",
       "1    27.229899\n",
       "3    25.261725\n",
       "4    11.222781\n",
       "5     1.596524\n",
       "Name: Grade, dtype: float64"
      ]
     },
     "execution_count": 24,
     "metadata": {},
     "output_type": "execute_result"
    }
   ],
   "source": [
    "df[\"Grade\"].value_counts(normalize=True)*100"
   ]
  },
  {
   "cell_type": "code",
   "execution_count": 25,
   "id": "cb509adc",
   "metadata": {},
   "outputs": [
    {
     "data": {
      "text/plain": [
       "[Text(0, 0, '6627'),\n",
       " Text(0, 0, '5202'),\n",
       " Text(0, 0, '4826'),\n",
       " Text(0, 0, '2144'),\n",
       " Text(0, 0, '305')]"
      ]
     },
     "execution_count": 25,
     "metadata": {},
     "output_type": "execute_result"
    },
    {
     "data": {
      "image/png": "[encoded data removed]",
      "text/plain": [
       "<Figure size 432x288 with 1 Axes>"
      ]
     },
     "metadata": {},
     "output_type": "display_data"
    }
   ],
   "source": [
    "sns.set(rc={'figure.figsize':(6,4)})\n",
    "ax=sns.countplot(data=df,x=\"Grade\",order = df[\"Grade\"].value_counts().index)\n",
    "ax.bar_label(container=ax.containers[0])"
   ]
  },
  {
   "cell_type": "markdown",
   "id": "2bad6a97",
   "metadata": {},
   "source": [
    "### `5.  'Quarterly Rating' variable stats`\n",
    "* 40% of drivers have Quarterly Rating 1, followed by Quarterly Rating '2' with 29%.\n",
    "* No Nulls in this variable"
   ]
  },
  {
   "cell_type": "code",
   "execution_count": 26,
   "id": "d7382310",
   "metadata": {},
   "outputs": [
    {
     "data": {
      "text/plain": [
       "1    40.195771\n",
       "2    29.067211\n",
       "3    20.388400\n",
       "4    10.348618\n",
       "Name: Quarterly Rating, dtype: float64"
      ]
     },
     "execution_count": 26,
     "metadata": {},
     "output_type": "execute_result"
    }
   ],
   "source": [
    "df[\"Quarterly Rating\"].value_counts(normalize=True)*100"
   ]
  },
  {
   "cell_type": "code",
   "execution_count": 27,
   "id": "72184aa6",
   "metadata": {},
   "outputs": [
    {
     "data": {
      "text/plain": [
       "[Text(0, 0, '7679'),\n",
       " Text(0, 0, '5553'),\n",
       " Text(0, 0, '3895'),\n",
       " Text(0, 0, '1977')]"
      ]
     },
     "execution_count": 27,
     "metadata": {},
     "output_type": "execute_result"
    },
    {
     "data": {
      "image/png": "[encoded data removed]",
      "text/plain": [
       "<Figure size 432x288 with 1 Axes>"
      ]
     },
     "metadata": {},
     "output_type": "display_data"
    }
   ],
   "source": [
    "sns.set(rc={'figure.figsize':(6,4)})\n",
    "ax=sns.countplot(data=df,x=\"Quarterly Rating\",order = df[\"Quarterly Rating\"].value_counts().index)\n",
    "ax.bar_label(container=ax.containers[0])"
   ]
  },
  {
   "cell_type": "markdown",
   "id": "72dabe35",
   "metadata": {},
   "source": [
    "### `6.  'Gender' variable stats`\n",
    "* 58% of drivers are male, while 41% are female.\n",
    "* No Nulls in this variable"
   ]
  },
  {
   "cell_type": "code",
   "execution_count": 28,
   "id": "70d775e8",
   "metadata": {},
   "outputs": [
    {
     "data": {
      "text/plain": [
       "0.0    58.125131\n",
       "1.0    41.874869\n",
       "Name: Gender, dtype: float64"
      ]
     },
     "execution_count": 28,
     "metadata": {},
     "output_type": "execute_result"
    }
   ],
   "source": [
    "df.Gender.value_counts(normalize=True)*100"
   ]
  },
  {
   "cell_type": "code",
   "execution_count": 29,
   "id": "a4570497",
   "metadata": {},
   "outputs": [
    {
     "data": {
      "text/plain": [
       "<AxesSubplot:xlabel='Gender', ylabel='count'>"
      ]
     },
     "execution_count": 29,
     "metadata": {},
     "output_type": "execute_result"
    },
    {
     "data": {
      "image/png": "[encoded data removed]",
      "text/plain": [
       "<Figure size 432x288 with 1 Axes>"
      ]
     },
     "metadata": {},
     "output_type": "display_data"
    }
   ],
   "source": [
    "sns.countplot(data=df,x=\"Gender\",order = df[\"Gender\"].value_counts().index)"
   ]
  },
  {
   "cell_type": "markdown",
   "id": "7f696a65",
   "metadata": {},
   "source": [
    "## >`Numerical features`<"
   ]
  },
  {
   "cell_type": "code",
   "execution_count": 30,
   "id": "46a4b1a4",
   "metadata": {},
   "outputs": [
    {
     "data": {
      "text/plain": [
       "['Driver_ID', 'Age', 'Income', 'Total Business Value']"
      ]
     },
     "execution_count": 30,
     "metadata": {},
     "output_type": "execute_result"
    }
   ],
   "source": [
    "num_cols = (df.dtypes =='int64') | (df.dtypes =='float64')\n",
    "num_cols = list(num_cols[num_cols].index)\n",
    "num_cols"
   ]
  },
  {
   "cell_type": "code",
   "execution_count": 31,
   "id": "fdfb9f25",
   "metadata": {},
   "outputs": [
    {
     "name": "stdout",
     "output_type": "stream",
     "text": [
      "<class 'pandas.core.frame.DataFrame'>\n",
      "RangeIndex: 19104 entries, 0 to 19103\n",
      "Data columns (total 3 columns):\n",
      " #   Column                Non-Null Count  Dtype  \n",
      "---  ------                --------------  -----  \n",
      " 0   Age                   19043 non-null  float64\n",
      " 1   Income                19104 non-null  int64  \n",
      " 2   Total Business Value  19104 non-null  int64  \n",
      "dtypes: float64(1), int64(2)\n",
      "memory usage: 447.9 KB\n"
     ]
    }
   ],
   "source": [
    "df[num_cols[1:]].info()"
   ]
  },
  {
   "cell_type": "code",
   "execution_count": 32,
   "id": "60a18b5e",
   "metadata": {},
   "outputs": [
    {
     "data": {
      "text/html": [
       "<div>\n",
       "<style scoped>\n",
       "    .dataframe tbody tr th:only-of-type {\n",
       "        vertical-align: middle;\n",
       "    }\n",
       "\n",
       "    .dataframe tbody tr th {\n",
       "        vertical-align: top;\n",
       "    }\n",
       "\n",
       "    .dataframe thead th {\n",
       "        text-align: right;\n",
       "    }\n",
       "</style>\n",
       "<table border=\"1\" class=\"dataframe\">\n",
       "  <thead>\n",
       "    <tr style=\"text-align: right;\">\n",
       "      <th></th>\n",
       "      <th>Age</th>\n",
       "      <th>Income</th>\n",
       "      <th>Total Business Value</th>\n",
       "    </tr>\n",
       "  </thead>\n",
       "  <tbody>\n",
       "    <tr>\n",
       "      <th>count</th>\n",
       "      <td>19043.000000</td>\n",
       "      <td>19104.000000</td>\n",
       "      <td>1.910400e+04</td>\n",
       "    </tr>\n",
       "    <tr>\n",
       "      <th>mean</th>\n",
       "      <td>34.668435</td>\n",
       "      <td>65652.025126</td>\n",
       "      <td>5.716621e+05</td>\n",
       "    </tr>\n",
       "    <tr>\n",
       "      <th>std</th>\n",
       "      <td>6.257912</td>\n",
       "      <td>30914.515344</td>\n",
       "      <td>1.128312e+06</td>\n",
       "    </tr>\n",
       "    <tr>\n",
       "      <th>min</th>\n",
       "      <td>21.000000</td>\n",
       "      <td>10747.000000</td>\n",
       "      <td>-6.000000e+06</td>\n",
       "    </tr>\n",
       "    <tr>\n",
       "      <th>25%</th>\n",
       "      <td>30.000000</td>\n",
       "      <td>42383.000000</td>\n",
       "      <td>0.000000e+00</td>\n",
       "    </tr>\n",
       "    <tr>\n",
       "      <th>50%</th>\n",
       "      <td>34.000000</td>\n",
       "      <td>60087.000000</td>\n",
       "      <td>2.500000e+05</td>\n",
       "    </tr>\n",
       "    <tr>\n",
       "      <th>75%</th>\n",
       "      <td>39.000000</td>\n",
       "      <td>83969.000000</td>\n",
       "      <td>6.997000e+05</td>\n",
       "    </tr>\n",
       "    <tr>\n",
       "      <th>max</th>\n",
       "      <td>58.000000</td>\n",
       "      <td>188418.000000</td>\n",
       "      <td>3.374772e+07</td>\n",
       "    </tr>\n",
       "  </tbody>\n",
       "</table>\n",
       "</div>"
      ],
      "text/plain": [
       "                Age         Income  Total Business Value\n",
       "count  19043.000000   19104.000000          1.910400e+04\n",
       "mean      34.668435   65652.025126          5.716621e+05\n",
       "std        6.257912   30914.515344          1.128312e+06\n",
       "min       21.000000   10747.000000         -6.000000e+06\n",
       "25%       30.000000   42383.000000          0.000000e+00\n",
       "50%       34.000000   60087.000000          2.500000e+05\n",
       "75%       39.000000   83969.000000          6.997000e+05\n",
       "max       58.000000  188418.000000          3.374772e+07"
      ]
     },
     "execution_count": 32,
     "metadata": {},
     "output_type": "execute_result"
    }
   ],
   "source": [
    "df[num_cols[1:]].describe()"
   ]
  },
  {
   "cell_type": "markdown",
   "id": "eca28c90",
   "metadata": {},
   "source": [
    "### `1. Income variable stats`\n",
    "* Income is slight right skewed \n",
    "* Income has no null value, has outliers as per the Box plot\n",
    "* Min income is 10747, Max is 188418\n",
    "* Average income is 65652"
   ]
  },
  {
   "cell_type": "code",
   "execution_count": 33,
   "id": "2e9acbab",
   "metadata": {},
   "outputs": [
    {
     "data": {
      "image/png": "[encoded data removed]",
      "text/plain": [
       "<Figure size 792x360 with 2 Axes>"
      ]
     },
     "metadata": {},
     "output_type": "display_data"
    }
   ],
   "source": [
    "plt.subplot(121)\n",
    "sns.kdeplot(df.Income,shade=True)\n",
    "plt.subplot(122)\n",
    "data[\"Income\"].plot.box(figsize=(11,5))\n",
    "plt.show()"
   ]
  },
  {
   "cell_type": "markdown",
   "id": "e41d58fa",
   "metadata": {},
   "source": [
    "### `2. Total Business Value variable stats`\n",
    "* Total Business Value is slight right skewed.\n",
    "* Income has no null value, has outliers as per the Box plot\n",
    "* Min income is -6.000000e+06 , Max is 3.374772e+07\n",
    "* Average income is 5.716621e+05\n",
    "* As the variable is large values we will take log to check its true distribution.\n",
    "* Log distribution seems to follow slight normal shape."
   ]
  },
  {
   "cell_type": "code",
   "execution_count": 34,
   "id": "e700b0ed",
   "metadata": {},
   "outputs": [
    {
     "data": {
      "image/png": "[encoded data removed]",
      "text/plain": [
       "<Figure size 648x288 with 2 Axes>"
      ]
     },
     "metadata": {},
     "output_type": "display_data"
    }
   ],
   "source": [
    "#start_scan_to_end_scan\n",
    "sns.set(rc={'figure.figsize':(9,4)})\n",
    "plt.subplot(121)\n",
    "sns.kdeplot(df['Total Business Value'],shade=True)\n",
    "plt.subplot(122)\n",
    "sns.kdeplot(np.log(df['Total Business Value']),shade=True)\n",
    "plt.show()"
   ]
  },
  {
   "cell_type": "code",
   "execution_count": 35,
   "id": "d89fc029",
   "metadata": {},
   "outputs": [
    {
     "data": {
      "text/plain": [
       "<AxesSubplot:xlabel='Total Business Value'>"
      ]
     },
     "execution_count": 35,
     "metadata": {},
     "output_type": "execute_result"
    },
    {
     "data": {
      "image/png": "[encoded data removed]",
      "text/plain": [
       "<Figure size 648x288 with 1 Axes>"
      ]
     },
     "metadata": {},
     "output_type": "display_data"
    }
   ],
   "source": [
    "sns.boxplot(x=df['Total Business Value'])"
   ]
  },
  {
   "cell_type": "markdown",
   "id": "4c2a037f",
   "metadata": {},
   "source": [
    "# `Bivariate Analysis`\n",
    "## >Check correlation in features <\n",
    "\n",
    "* Total of 3 numerical variable. \n",
    "* No variable has strong linear relation with other variable.\n",
    "* There are outliers in data."
   ]
  },
  {
   "cell_type": "code",
   "execution_count": 36,
   "id": "35274ee6",
   "metadata": {},
   "outputs": [
    {
     "data": {
      "image/png": "[encoded data removed]",
      "text/plain": [
       "<Figure size 540x540 with 12 Axes>"
      ]
     },
     "metadata": {},
     "output_type": "display_data"
    }
   ],
   "source": [
    "sns.pairplot(data=df[num_cols[1:]])\n",
    "plt.show()"
   ]
  },
  {
   "cell_type": "code",
   "execution_count": 37,
   "id": "18a08491",
   "metadata": {},
   "outputs": [
    {
     "data": {
      "text/plain": [
       "<AxesSubplot:>"
      ]
     },
     "execution_count": 37,
     "metadata": {},
     "output_type": "execute_result"
    },
    {
     "data": {
      "image/png": "[encoded data removed]",
      "text/plain": [
       "<Figure size 288x288 with 2 Axes>"
      ]
     },
     "metadata": {},
     "output_type": "display_data"
    }
   ],
   "source": [
    "sns.set(rc={'figure.figsize':(4,4)})\n",
    "sns.heatmap(df[num_cols[1:]].corr(), annot = True)"
   ]
  },
  {
   "cell_type": "code",
   "execution_count": 38,
   "id": "9270d6e0",
   "metadata": {},
   "outputs": [
    {
     "data": {
      "text/plain": [
       "['Gender',\n",
       " 'City',\n",
       " 'Education_Level',\n",
       " 'Joining Designation',\n",
       " 'Grade',\n",
       " 'Quarterly Rating']"
      ]
     },
     "execution_count": 38,
     "metadata": {},
     "output_type": "execute_result"
    }
   ],
   "source": [
    "cat_cols"
   ]
  },
  {
   "cell_type": "code",
   "execution_count": 39,
   "id": "b8cf0c5f",
   "metadata": {},
   "outputs": [
    {
     "data": {
      "image/png": "[encoded data removed]",
      "text/plain": [
       "<Figure size 792x288 with 3 Axes>"
      ]
     },
     "metadata": {},
     "output_type": "display_data"
    }
   ],
   "source": [
    "sns.set(rc={'figure.figsize':(11,4)})\n",
    "names = df[num_cols[1:]].columns\n",
    "ncols = len(names)\n",
    "fig, axes = plt.subplots(1,3)\n",
    "plt.subplots_adjust(wspace=0.4)\n",
    "for name, ax in zip(names, axes.flatten()):\n",
    "    sns.boxplot(y=name, x= \"Gender\", data=df, orient='v', ax=ax)"
   ]
  },
  {
   "cell_type": "code",
   "execution_count": 40,
   "id": "18dcaf4e",
   "metadata": {},
   "outputs": [
    {
     "data": {
      "image/png": "[encoded data removed]",
      "text/plain": [
       "<Figure size 792x288 with 3 Axes>"
      ]
     },
     "metadata": {},
     "output_type": "display_data"
    }
   ],
   "source": [
    "sns.set(rc={'figure.figsize':(11,4)})\n",
    "names = df[num_cols[1:]].columns\n",
    "ncols = len(names)\n",
    "fig, axes = plt.subplots(1,3)\n",
    "plt.subplots_adjust(wspace=0.4)\n",
    "for name, ax in zip(names, axes.flatten()):\n",
    "    sns.boxplot(y=name, x= \"Education_Level\", data=df, orient='v', ax=ax)"
   ]
  },
  {
   "cell_type": "code",
   "execution_count": 41,
   "id": "a892fcec",
   "metadata": {},
   "outputs": [
    {
     "data": {
      "image/png": "[encoded data removed]",
      "text/plain": [
       "<Figure size 792x288 with 3 Axes>"
      ]
     },
     "metadata": {},
     "output_type": "display_data"
    }
   ],
   "source": [
    "sns.set(rc={'figure.figsize':(11,4)})\n",
    "names = df[num_cols[1:]].columns\n",
    "ncols = len(names)\n",
    "fig, axes = plt.subplots(1,3)\n",
    "plt.subplots_adjust(wspace=0.4)\n",
    "for name, ax in zip(names, axes.flatten()):\n",
    "    sns.boxplot(y=name, x= \"Grade\", data=df, orient='v', ax=ax)"
   ]
  },
  {
   "cell_type": "code",
   "execution_count": 42,
   "id": "9a6cb521",
   "metadata": {},
   "outputs": [
    {
     "data": {
      "image/png": "[encoded data removed]",
      "text/plain": [
       "<Figure size 792x288 with 3 Axes>"
      ]
     },
     "metadata": {},
     "output_type": "display_data"
    }
   ],
   "source": [
    "sns.set(rc={'figure.figsize':(11,4)})\n",
    "names = df[num_cols[1:]].columns\n",
    "ncols = len(names)\n",
    "fig, axes = plt.subplots(1,3)\n",
    "plt.subplots_adjust(wspace=0.4)\n",
    "for name, ax in zip(names, axes.flatten()):\n",
    "    sns.boxplot(y=name, x= \"Quarterly Rating\", data=df, orient='v', ax=ax)"
   ]
  },
  {
   "cell_type": "markdown",
   "id": "79bfc58b",
   "metadata": {},
   "source": [
    "#### ---------------------------------------------------------------------------------------------------------------------------\n",
    "## `2. Data Preprocessing`\n",
    "## Feature Engineering"
   ]
  },
  {
   "cell_type": "code",
   "execution_count": 43,
   "id": "de39a352",
   "metadata": {},
   "outputs": [],
   "source": [
    "df['Quarterly Rating'] = df['Quarterly Rating'].astype('int64')\n",
    "df['Grade'] = df['Grade'].astype('int64')"
   ]
  },
  {
   "cell_type": "markdown",
   "id": "a1e1a7f5",
   "metadata": {},
   "source": [
    "### `Creating 'Target','Rating_Increase' column to check if rating has increased`\n",
    "* Create a column which tells whether the quarterly rating has increased for that driver <br> for those whose quarterly rating has increased we assign the value 1\n",
    "* A Dataframe is too find rating difference between latest rating minus initial rating\n",
    "* B Dataframe is for distinct values of Driver_ID for merging\n",
    "* T Dataframe is for Target variable"
   ]
  },
  {
   "cell_type": "code",
   "execution_count": 44,
   "id": "5dd28870",
   "metadata": {},
   "outputs": [],
   "source": [
    "A = pd.DataFrame( (df.groupby(['Driver_ID'],as_index=False).agg({'Quarterly Rating':'first'}\n",
    "           ).loc[:,'Quarterly Rating']-df.groupby(['Driver_ID'], as_index=False).agg(\n",
    "    {'Quarterly Rating':'last'}).loc[:,'Quarterly Rating']).apply(lambda x: 1 if x < 0 else 0))\n",
    "\n",
    "B = pd.DataFrame(df.Driver_ID.unique(), columns=['Driver_ID'])"
   ]
  },
  {
   "cell_type": "code",
   "execution_count": 45,
   "id": "a5a7002b",
   "metadata": {},
   "outputs": [],
   "source": [
    "d1 = df.groupby(['Driver_ID'],as_index=False).agg({'LastWorkingDate':'max'}).fillna(0)\n",
    "T = d1.LastWorkingDate.apply(lambda x: 1 if x != 0 else 0)"
   ]
  },
  {
   "cell_type": "markdown",
   "id": "b13eda15",
   "metadata": {},
   "source": [
    "### `Add 'Income Increase' and Grade_Change' new feature`\n",
    "* Create a column which tells whether the monthly income has increased for that driver<br> for those whose monthly income has increased we assign the value 1\n",
    "* Only 43 Drivers out of 2381 drivers had there income increase in 2019-2020."
   ]
  },
  {
   "cell_type": "code",
   "execution_count": 46,
   "id": "c887fa42",
   "metadata": {},
   "outputs": [],
   "source": [
    "Q1 = pd.DataFrame( (df.groupby(['Driver_ID'],as_index=False).agg({'Income':'first'}\n",
    "           ).loc[:,'Income']-df.groupby(['Driver_ID'], as_index=False).agg(\n",
    "    {'Income':'last'}).loc[:,'Income']).apply(lambda x: 1 if x < 0 else 0))\n",
    "\n",
    "Q2 = pd.DataFrame( (df.groupby(['Driver_ID'],as_index=False).agg({'Grade':'first'}\n",
    "           ).loc[:,'Grade']-df.groupby(['Driver_ID'], as_index=False).agg(\n",
    "     {'Grade':'last'}).loc[:,'Grade']).apply(lambda x: 1 if x !=0 else 0))"
   ]
  },
  {
   "cell_type": "code",
   "execution_count": 47,
   "id": "618ebe2c",
   "metadata": {},
   "outputs": [
    {
     "data": {
      "text/html": [
       "<div>\n",
       "<style scoped>\n",
       "    .dataframe tbody tr th:only-of-type {\n",
       "        vertical-align: middle;\n",
       "    }\n",
       "\n",
       "    .dataframe tbody tr th {\n",
       "        vertical-align: top;\n",
       "    }\n",
       "\n",
       "    .dataframe thead th {\n",
       "        text-align: right;\n",
       "    }\n",
       "</style>\n",
       "<table border=\"1\" class=\"dataframe\">\n",
       "  <thead>\n",
       "    <tr style=\"text-align: right;\">\n",
       "      <th></th>\n",
       "      <th>Driver_ID</th>\n",
       "      <th>Quatrly_Ratng_Inc</th>\n",
       "      <th>Income_Inc</th>\n",
       "      <th>Grade_Change</th>\n",
       "      <th>Target</th>\n",
       "    </tr>\n",
       "  </thead>\n",
       "  <tbody>\n",
       "    <tr>\n",
       "      <th>0</th>\n",
       "      <td>1</td>\n",
       "      <td>0</td>\n",
       "      <td>0</td>\n",
       "      <td>0</td>\n",
       "      <td>1</td>\n",
       "    </tr>\n",
       "    <tr>\n",
       "      <th>1</th>\n",
       "      <td>2</td>\n",
       "      <td>0</td>\n",
       "      <td>0</td>\n",
       "      <td>0</td>\n",
       "      <td>0</td>\n",
       "    </tr>\n",
       "    <tr>\n",
       "      <th>2</th>\n",
       "      <td>4</td>\n",
       "      <td>0</td>\n",
       "      <td>0</td>\n",
       "      <td>0</td>\n",
       "      <td>1</td>\n",
       "    </tr>\n",
       "    <tr>\n",
       "      <th>3</th>\n",
       "      <td>5</td>\n",
       "      <td>0</td>\n",
       "      <td>0</td>\n",
       "      <td>0</td>\n",
       "      <td>1</td>\n",
       "    </tr>\n",
       "    <tr>\n",
       "      <th>4</th>\n",
       "      <td>6</td>\n",
       "      <td>1</td>\n",
       "      <td>0</td>\n",
       "      <td>0</td>\n",
       "      <td>0</td>\n",
       "    </tr>\n",
       "  </tbody>\n",
       "</table>\n",
       "</div>"
      ],
      "text/plain": [
       "   Driver_ID  Quatrly_Ratng_Inc  Income_Inc  Grade_Change  Target\n",
       "0          1                  0           0             0       1\n",
       "1          2                  0           0             0       0\n",
       "2          4                  0           0             0       1\n",
       "3          5                  0           0             0       1\n",
       "4          6                  1           0             0       0"
      ]
     },
     "execution_count": 47,
     "metadata": {},
     "output_type": "execute_result"
    }
   ],
   "source": [
    "C = pd.concat((B,A,Q1,Q2,T), axis=1)\n",
    "C.rename(columns = {'Quarterly Rating':'Quatrly_Ratng_Inc',\n",
    "                    'Income':'Income_Inc',\n",
    "                    'Grade':'Grade_Change',\n",
    "                    'LastWorkingDate':'Target' }, inplace = True)\n",
    "C.head()"
   ]
  },
  {
   "cell_type": "code",
   "execution_count": 48,
   "id": "8412cdb4",
   "metadata": {},
   "outputs": [
    {
     "data": {
      "text/plain": [
       "Index(['MMM-YY', 'Driver_ID', 'Age', 'Gender', 'City', 'Education_Level',\n",
       "       'Income', 'Dateofjoining', 'LastWorkingDate', 'Joining Designation',\n",
       "       'Grade', 'Total Business Value', 'Quarterly Rating'],\n",
       "      dtype='object')"
      ]
     },
     "execution_count": 48,
     "metadata": {},
     "output_type": "execute_result"
    }
   ],
   "source": [
    "df.columns"
   ]
  },
  {
   "cell_type": "code",
   "execution_count": 49,
   "id": "0a09082f",
   "metadata": {},
   "outputs": [],
   "source": [
    "df[['Age','Gender']] = df[['Age','Gender']].fillna(0)\n",
    "df[['Age','Gender','Education_Level','Joining Designation']\n",
    "  ] = df[['Age','Gender','Education_Level','Joining Designation']].astype('int64')"
   ]
  },
  {
   "cell_type": "code",
   "execution_count": 50,
   "id": "0433bf7b",
   "metadata": {},
   "outputs": [
    {
     "data": {
      "text/html": [
       "<div>\n",
       "<style scoped>\n",
       "    .dataframe tbody tr th:only-of-type {\n",
       "        vertical-align: middle;\n",
       "    }\n",
       "\n",
       "    .dataframe tbody tr th {\n",
       "        vertical-align: top;\n",
       "    }\n",
       "\n",
       "    .dataframe thead th {\n",
       "        text-align: right;\n",
       "    }\n",
       "</style>\n",
       "<table border=\"1\" class=\"dataframe\">\n",
       "  <thead>\n",
       "    <tr style=\"text-align: right;\">\n",
       "      <th></th>\n",
       "      <th>Driver_ID</th>\n",
       "      <th>Age</th>\n",
       "      <th>Gender</th>\n",
       "      <th>Education_Level</th>\n",
       "      <th>Income</th>\n",
       "      <th>Joining Designation</th>\n",
       "      <th>Grade</th>\n",
       "      <th>Total Business Value</th>\n",
       "    </tr>\n",
       "  </thead>\n",
       "  <tbody>\n",
       "    <tr>\n",
       "      <th>0</th>\n",
       "      <td>1</td>\n",
       "      <td>28</td>\n",
       "      <td>0</td>\n",
       "      <td>2</td>\n",
       "      <td>57387</td>\n",
       "      <td>1</td>\n",
       "      <td>1</td>\n",
       "      <td>1715580</td>\n",
       "    </tr>\n",
       "    <tr>\n",
       "      <th>1</th>\n",
       "      <td>2</td>\n",
       "      <td>31</td>\n",
       "      <td>0</td>\n",
       "      <td>2</td>\n",
       "      <td>67016</td>\n",
       "      <td>2</td>\n",
       "      <td>2</td>\n",
       "      <td>0</td>\n",
       "    </tr>\n",
       "    <tr>\n",
       "      <th>2</th>\n",
       "      <td>4</td>\n",
       "      <td>43</td>\n",
       "      <td>0</td>\n",
       "      <td>2</td>\n",
       "      <td>65603</td>\n",
       "      <td>2</td>\n",
       "      <td>2</td>\n",
       "      <td>350000</td>\n",
       "    </tr>\n",
       "    <tr>\n",
       "      <th>3</th>\n",
       "      <td>5</td>\n",
       "      <td>29</td>\n",
       "      <td>0</td>\n",
       "      <td>0</td>\n",
       "      <td>46368</td>\n",
       "      <td>1</td>\n",
       "      <td>1</td>\n",
       "      <td>120360</td>\n",
       "    </tr>\n",
       "    <tr>\n",
       "      <th>4</th>\n",
       "      <td>6</td>\n",
       "      <td>31</td>\n",
       "      <td>1</td>\n",
       "      <td>1</td>\n",
       "      <td>78728</td>\n",
       "      <td>3</td>\n",
       "      <td>3</td>\n",
       "      <td>1265000</td>\n",
       "    </tr>\n",
       "  </tbody>\n",
       "</table>\n",
       "</div>"
      ],
      "text/plain": [
       "   Driver_ID  Age  Gender  Education_Level  Income  Joining Designation  \\\n",
       "0          1   28       0                2   57387                    1   \n",
       "1          2   31       0                2   67016                    2   \n",
       "2          4   43       0                2   65603                    2   \n",
       "3          5   29       0                0   46368                    1   \n",
       "4          6   31       1                1   78728                    3   \n",
       "\n",
       "   Grade  Total Business Value  \n",
       "0      1               1715580  \n",
       "1      2                     0  \n",
       "2      2                350000  \n",
       "3      1                120360  \n",
       "4      3               1265000  "
      ]
     },
     "execution_count": 50,
     "metadata": {},
     "output_type": "execute_result"
    }
   ],
   "source": [
    "df1 = df.groupby(['Driver_ID'], as_index=False).agg({\n",
    "    'Age':'max', 'Gender':'max','Education_Level':'last',\n",
    "    'Income':'max', 'Joining Designation':'last',\n",
    "    'Grade':'max', 'Total Business Value':'sum',\n",
    "    })\n",
    "df1.head()"
   ]
  },
  {
   "cell_type": "markdown",
   "id": "1c98214e",
   "metadata": {},
   "source": [
    "### One-Hot encoding on 'Quarterly Rating' then Aggregrate"
   ]
  },
  {
   "cell_type": "code",
   "execution_count": 51,
   "id": "8823d894",
   "metadata": {},
   "outputs": [
    {
     "data": {
      "text/html": [
       "<div>\n",
       "<style scoped>\n",
       "    .dataframe tbody tr th:only-of-type {\n",
       "        vertical-align: middle;\n",
       "    }\n",
       "\n",
       "    .dataframe tbody tr th {\n",
       "        vertical-align: top;\n",
       "    }\n",
       "\n",
       "    .dataframe thead th {\n",
       "        text-align: right;\n",
       "    }\n",
       "</style>\n",
       "<table border=\"1\" class=\"dataframe\">\n",
       "  <thead>\n",
       "    <tr style=\"text-align: right;\">\n",
       "      <th></th>\n",
       "      <th>Driver_ID</th>\n",
       "      <th>Quarterly Rating_1</th>\n",
       "      <th>Quarterly Rating_2</th>\n",
       "      <th>Quarterly Rating_3</th>\n",
       "      <th>Quarterly Rating_4</th>\n",
       "    </tr>\n",
       "  </thead>\n",
       "  <tbody>\n",
       "    <tr>\n",
       "      <th>0</th>\n",
       "      <td>1</td>\n",
       "      <td>0</td>\n",
       "      <td>1</td>\n",
       "      <td>0</td>\n",
       "      <td>0</td>\n",
       "    </tr>\n",
       "    <tr>\n",
       "      <th>1</th>\n",
       "      <td>2</td>\n",
       "      <td>1</td>\n",
       "      <td>0</td>\n",
       "      <td>0</td>\n",
       "      <td>0</td>\n",
       "    </tr>\n",
       "    <tr>\n",
       "      <th>2</th>\n",
       "      <td>4</td>\n",
       "      <td>1</td>\n",
       "      <td>0</td>\n",
       "      <td>0</td>\n",
       "      <td>0</td>\n",
       "    </tr>\n",
       "    <tr>\n",
       "      <th>3</th>\n",
       "      <td>5</td>\n",
       "      <td>1</td>\n",
       "      <td>0</td>\n",
       "      <td>0</td>\n",
       "      <td>0</td>\n",
       "    </tr>\n",
       "    <tr>\n",
       "      <th>4</th>\n",
       "      <td>6</td>\n",
       "      <td>1</td>\n",
       "      <td>1</td>\n",
       "      <td>0</td>\n",
       "      <td>0</td>\n",
       "    </tr>\n",
       "  </tbody>\n",
       "</table>\n",
       "</div>"
      ],
      "text/plain": [
       "   Driver_ID  Quarterly Rating_1  Quarterly Rating_2  Quarterly Rating_3  \\\n",
       "0          1                   0                   1                   0   \n",
       "1          2                   1                   0                   0   \n",
       "2          4                   1                   0                   0   \n",
       "3          5                   1                   0                   0   \n",
       "4          6                   1                   1                   0   \n",
       "\n",
       "   Quarterly Rating_4  \n",
       "0                   0  \n",
       "1                   0  \n",
       "2                   0  \n",
       "3                   0  \n",
       "4                   0  "
      ]
     },
     "execution_count": 51,
     "metadata": {},
     "output_type": "execute_result"
    }
   ],
   "source": [
    "QR = df[['Driver_ID','Quarterly Rating']].drop_duplicates()\n",
    "QR = pd.get_dummies(QR, columns=['Quarterly Rating'])\n",
    "\n",
    "QR = QR.groupby(['Driver_ID'], as_index=False).agg({\n",
    "    'Quarterly Rating_1':'sum','Quarterly Rating_2':'sum',\n",
    "    'Quarterly Rating_3':'sum','Quarterly Rating_4':'sum'})\n",
    "QR.head()"
   ]
  },
  {
   "cell_type": "markdown",
   "id": "02b97c4f",
   "metadata": {},
   "source": [
    "### One-Hot encoding on 'City'"
   ]
  },
  {
   "cell_type": "code",
   "execution_count": 52,
   "id": "d6656321",
   "metadata": {},
   "outputs": [
    {
     "data": {
      "text/html": [
       "<div>\n",
       "<style scoped>\n",
       "    .dataframe tbody tr th:only-of-type {\n",
       "        vertical-align: middle;\n",
       "    }\n",
       "\n",
       "    .dataframe tbody tr th {\n",
       "        vertical-align: top;\n",
       "    }\n",
       "\n",
       "    .dataframe thead th {\n",
       "        text-align: right;\n",
       "    }\n",
       "</style>\n",
       "<table border=\"1\" class=\"dataframe\">\n",
       "  <thead>\n",
       "    <tr style=\"text-align: right;\">\n",
       "      <th></th>\n",
       "      <th>Driver_ID</th>\n",
       "      <th>City_C1</th>\n",
       "      <th>City_C10</th>\n",
       "      <th>City_C11</th>\n",
       "      <th>City_C12</th>\n",
       "      <th>City_C13</th>\n",
       "      <th>City_C14</th>\n",
       "      <th>City_C15</th>\n",
       "      <th>City_C16</th>\n",
       "      <th>City_C17</th>\n",
       "      <th>...</th>\n",
       "      <th>City_C27</th>\n",
       "      <th>City_C28</th>\n",
       "      <th>City_C29</th>\n",
       "      <th>City_C3</th>\n",
       "      <th>City_C4</th>\n",
       "      <th>City_C5</th>\n",
       "      <th>City_C6</th>\n",
       "      <th>City_C7</th>\n",
       "      <th>City_C8</th>\n",
       "      <th>City_C9</th>\n",
       "    </tr>\n",
       "  </thead>\n",
       "  <tbody>\n",
       "    <tr>\n",
       "      <th>0</th>\n",
       "      <td>1</td>\n",
       "      <td>0</td>\n",
       "      <td>0</td>\n",
       "      <td>0</td>\n",
       "      <td>0</td>\n",
       "      <td>0</td>\n",
       "      <td>0</td>\n",
       "      <td>0</td>\n",
       "      <td>0</td>\n",
       "      <td>0</td>\n",
       "      <td>...</td>\n",
       "      <td>0</td>\n",
       "      <td>0</td>\n",
       "      <td>0</td>\n",
       "      <td>0</td>\n",
       "      <td>0</td>\n",
       "      <td>0</td>\n",
       "      <td>0</td>\n",
       "      <td>0</td>\n",
       "      <td>0</td>\n",
       "      <td>0</td>\n",
       "    </tr>\n",
       "    <tr>\n",
       "      <th>3</th>\n",
       "      <td>2</td>\n",
       "      <td>0</td>\n",
       "      <td>0</td>\n",
       "      <td>0</td>\n",
       "      <td>0</td>\n",
       "      <td>0</td>\n",
       "      <td>0</td>\n",
       "      <td>0</td>\n",
       "      <td>0</td>\n",
       "      <td>0</td>\n",
       "      <td>...</td>\n",
       "      <td>0</td>\n",
       "      <td>0</td>\n",
       "      <td>0</td>\n",
       "      <td>0</td>\n",
       "      <td>0</td>\n",
       "      <td>0</td>\n",
       "      <td>0</td>\n",
       "      <td>1</td>\n",
       "      <td>0</td>\n",
       "      <td>0</td>\n",
       "    </tr>\n",
       "    <tr>\n",
       "      <th>5</th>\n",
       "      <td>4</td>\n",
       "      <td>0</td>\n",
       "      <td>0</td>\n",
       "      <td>0</td>\n",
       "      <td>0</td>\n",
       "      <td>1</td>\n",
       "      <td>0</td>\n",
       "      <td>0</td>\n",
       "      <td>0</td>\n",
       "      <td>0</td>\n",
       "      <td>...</td>\n",
       "      <td>0</td>\n",
       "      <td>0</td>\n",
       "      <td>0</td>\n",
       "      <td>0</td>\n",
       "      <td>0</td>\n",
       "      <td>0</td>\n",
       "      <td>0</td>\n",
       "      <td>0</td>\n",
       "      <td>0</td>\n",
       "      <td>0</td>\n",
       "    </tr>\n",
       "    <tr>\n",
       "      <th>10</th>\n",
       "      <td>5</td>\n",
       "      <td>0</td>\n",
       "      <td>0</td>\n",
       "      <td>0</td>\n",
       "      <td>0</td>\n",
       "      <td>0</td>\n",
       "      <td>0</td>\n",
       "      <td>0</td>\n",
       "      <td>0</td>\n",
       "      <td>0</td>\n",
       "      <td>...</td>\n",
       "      <td>0</td>\n",
       "      <td>0</td>\n",
       "      <td>0</td>\n",
       "      <td>0</td>\n",
       "      <td>0</td>\n",
       "      <td>0</td>\n",
       "      <td>0</td>\n",
       "      <td>0</td>\n",
       "      <td>0</td>\n",
       "      <td>1</td>\n",
       "    </tr>\n",
       "    <tr>\n",
       "      <th>13</th>\n",
       "      <td>6</td>\n",
       "      <td>0</td>\n",
       "      <td>0</td>\n",
       "      <td>1</td>\n",
       "      <td>0</td>\n",
       "      <td>0</td>\n",
       "      <td>0</td>\n",
       "      <td>0</td>\n",
       "      <td>0</td>\n",
       "      <td>0</td>\n",
       "      <td>...</td>\n",
       "      <td>0</td>\n",
       "      <td>0</td>\n",
       "      <td>0</td>\n",
       "      <td>0</td>\n",
       "      <td>0</td>\n",
       "      <td>0</td>\n",
       "      <td>0</td>\n",
       "      <td>0</td>\n",
       "      <td>0</td>\n",
       "      <td>0</td>\n",
       "    </tr>\n",
       "  </tbody>\n",
       "</table>\n",
       "<p>5 rows × 30 columns</p>\n",
       "</div>"
      ],
      "text/plain": [
       "    Driver_ID  City_C1  City_C10  City_C11  City_C12  City_C13  City_C14  \\\n",
       "0           1        0         0         0         0         0         0   \n",
       "3           2        0         0         0         0         0         0   \n",
       "5           4        0         0         0         0         1         0   \n",
       "10          5        0         0         0         0         0         0   \n",
       "13          6        0         0         1         0         0         0   \n",
       "\n",
       "    City_C15  City_C16  City_C17  ...  City_C27  City_C28  City_C29  City_C3  \\\n",
       "0          0         0         0  ...         0         0         0        0   \n",
       "3          0         0         0  ...         0         0         0        0   \n",
       "5          0         0         0  ...         0         0         0        0   \n",
       "10         0         0         0  ...         0         0         0        0   \n",
       "13         0         0         0  ...         0         0         0        0   \n",
       "\n",
       "    City_C4  City_C5  City_C6  City_C7  City_C8  City_C9  \n",
       "0         0        0        0        0        0        0  \n",
       "3         0        0        0        1        0        0  \n",
       "5         0        0        0        0        0        0  \n",
       "10        0        0        0        0        0        1  \n",
       "13        0        0        0        0        0        0  \n",
       "\n",
       "[5 rows x 30 columns]"
      ]
     },
     "execution_count": 52,
     "metadata": {},
     "output_type": "execute_result"
    }
   ],
   "source": [
    "CT = df[['Driver_ID','City']].drop_duplicates()\n",
    "CT = pd.get_dummies(CT, columns=['City'])\n",
    "CT.head()"
   ]
  },
  {
   "cell_type": "code",
   "execution_count": 53,
   "id": "e946632b",
   "metadata": {},
   "outputs": [
    {
     "data": {
      "text/html": [
       "<div>\n",
       "<style scoped>\n",
       "    .dataframe tbody tr th:only-of-type {\n",
       "        vertical-align: middle;\n",
       "    }\n",
       "\n",
       "    .dataframe tbody tr th {\n",
       "        vertical-align: top;\n",
       "    }\n",
       "\n",
       "    .dataframe thead th {\n",
       "        text-align: right;\n",
       "    }\n",
       "</style>\n",
       "<table border=\"1\" class=\"dataframe\">\n",
       "  <thead>\n",
       "    <tr style=\"text-align: right;\">\n",
       "      <th></th>\n",
       "      <th>Driver_ID</th>\n",
       "      <th>Age</th>\n",
       "      <th>Gender</th>\n",
       "      <th>Education_Level</th>\n",
       "      <th>Income</th>\n",
       "      <th>Joining Designation</th>\n",
       "      <th>Grade</th>\n",
       "      <th>Total Business Value</th>\n",
       "      <th>Quarterly Rating_1</th>\n",
       "      <th>Quarterly Rating_2</th>\n",
       "      <th>...</th>\n",
       "      <th>City_C27</th>\n",
       "      <th>City_C28</th>\n",
       "      <th>City_C29</th>\n",
       "      <th>City_C3</th>\n",
       "      <th>City_C4</th>\n",
       "      <th>City_C5</th>\n",
       "      <th>City_C6</th>\n",
       "      <th>City_C7</th>\n",
       "      <th>City_C8</th>\n",
       "      <th>City_C9</th>\n",
       "    </tr>\n",
       "  </thead>\n",
       "  <tbody>\n",
       "    <tr>\n",
       "      <th>0</th>\n",
       "      <td>1</td>\n",
       "      <td>28</td>\n",
       "      <td>0</td>\n",
       "      <td>2</td>\n",
       "      <td>57387</td>\n",
       "      <td>1</td>\n",
       "      <td>1</td>\n",
       "      <td>1715580</td>\n",
       "      <td>0</td>\n",
       "      <td>1</td>\n",
       "      <td>...</td>\n",
       "      <td>0</td>\n",
       "      <td>0</td>\n",
       "      <td>0</td>\n",
       "      <td>0</td>\n",
       "      <td>0</td>\n",
       "      <td>0</td>\n",
       "      <td>0</td>\n",
       "      <td>0</td>\n",
       "      <td>0</td>\n",
       "      <td>0</td>\n",
       "    </tr>\n",
       "    <tr>\n",
       "      <th>1</th>\n",
       "      <td>2</td>\n",
       "      <td>31</td>\n",
       "      <td>0</td>\n",
       "      <td>2</td>\n",
       "      <td>67016</td>\n",
       "      <td>2</td>\n",
       "      <td>2</td>\n",
       "      <td>0</td>\n",
       "      <td>1</td>\n",
       "      <td>0</td>\n",
       "      <td>...</td>\n",
       "      <td>0</td>\n",
       "      <td>0</td>\n",
       "      <td>0</td>\n",
       "      <td>0</td>\n",
       "      <td>0</td>\n",
       "      <td>0</td>\n",
       "      <td>0</td>\n",
       "      <td>1</td>\n",
       "      <td>0</td>\n",
       "      <td>0</td>\n",
       "    </tr>\n",
       "    <tr>\n",
       "      <th>2</th>\n",
       "      <td>4</td>\n",
       "      <td>43</td>\n",
       "      <td>0</td>\n",
       "      <td>2</td>\n",
       "      <td>65603</td>\n",
       "      <td>2</td>\n",
       "      <td>2</td>\n",
       "      <td>350000</td>\n",
       "      <td>1</td>\n",
       "      <td>0</td>\n",
       "      <td>...</td>\n",
       "      <td>0</td>\n",
       "      <td>0</td>\n",
       "      <td>0</td>\n",
       "      <td>0</td>\n",
       "      <td>0</td>\n",
       "      <td>0</td>\n",
       "      <td>0</td>\n",
       "      <td>0</td>\n",
       "      <td>0</td>\n",
       "      <td>0</td>\n",
       "    </tr>\n",
       "    <tr>\n",
       "      <th>3</th>\n",
       "      <td>5</td>\n",
       "      <td>29</td>\n",
       "      <td>0</td>\n",
       "      <td>0</td>\n",
       "      <td>46368</td>\n",
       "      <td>1</td>\n",
       "      <td>1</td>\n",
       "      <td>120360</td>\n",
       "      <td>1</td>\n",
       "      <td>0</td>\n",
       "      <td>...</td>\n",
       "      <td>0</td>\n",
       "      <td>0</td>\n",
       "      <td>0</td>\n",
       "      <td>0</td>\n",
       "      <td>0</td>\n",
       "      <td>0</td>\n",
       "      <td>0</td>\n",
       "      <td>0</td>\n",
       "      <td>0</td>\n",
       "      <td>1</td>\n",
       "    </tr>\n",
       "    <tr>\n",
       "      <th>4</th>\n",
       "      <td>6</td>\n",
       "      <td>31</td>\n",
       "      <td>1</td>\n",
       "      <td>1</td>\n",
       "      <td>78728</td>\n",
       "      <td>3</td>\n",
       "      <td>3</td>\n",
       "      <td>1265000</td>\n",
       "      <td>1</td>\n",
       "      <td>1</td>\n",
       "      <td>...</td>\n",
       "      <td>0</td>\n",
       "      <td>0</td>\n",
       "      <td>0</td>\n",
       "      <td>0</td>\n",
       "      <td>0</td>\n",
       "      <td>0</td>\n",
       "      <td>0</td>\n",
       "      <td>0</td>\n",
       "      <td>0</td>\n",
       "      <td>0</td>\n",
       "    </tr>\n",
       "    <tr>\n",
       "      <th>...</th>\n",
       "      <td>...</td>\n",
       "      <td>...</td>\n",
       "      <td>...</td>\n",
       "      <td>...</td>\n",
       "      <td>...</td>\n",
       "      <td>...</td>\n",
       "      <td>...</td>\n",
       "      <td>...</td>\n",
       "      <td>...</td>\n",
       "      <td>...</td>\n",
       "      <td>...</td>\n",
       "      <td>...</td>\n",
       "      <td>...</td>\n",
       "      <td>...</td>\n",
       "      <td>...</td>\n",
       "      <td>...</td>\n",
       "      <td>...</td>\n",
       "      <td>...</td>\n",
       "      <td>...</td>\n",
       "      <td>...</td>\n",
       "      <td>...</td>\n",
       "    </tr>\n",
       "    <tr>\n",
       "      <th>2376</th>\n",
       "      <td>2784</td>\n",
       "      <td>34</td>\n",
       "      <td>0</td>\n",
       "      <td>0</td>\n",
       "      <td>82815</td>\n",
       "      <td>2</td>\n",
       "      <td>3</td>\n",
       "      <td>21748820</td>\n",
       "      <td>1</td>\n",
       "      <td>0</td>\n",
       "      <td>...</td>\n",
       "      <td>0</td>\n",
       "      <td>0</td>\n",
       "      <td>0</td>\n",
       "      <td>0</td>\n",
       "      <td>0</td>\n",
       "      <td>0</td>\n",
       "      <td>0</td>\n",
       "      <td>0</td>\n",
       "      <td>0</td>\n",
       "      <td>0</td>\n",
       "    </tr>\n",
       "    <tr>\n",
       "      <th>2377</th>\n",
       "      <td>2785</td>\n",
       "      <td>34</td>\n",
       "      <td>1</td>\n",
       "      <td>0</td>\n",
       "      <td>12105</td>\n",
       "      <td>1</td>\n",
       "      <td>1</td>\n",
       "      <td>0</td>\n",
       "      <td>1</td>\n",
       "      <td>0</td>\n",
       "      <td>...</td>\n",
       "      <td>0</td>\n",
       "      <td>0</td>\n",
       "      <td>0</td>\n",
       "      <td>0</td>\n",
       "      <td>0</td>\n",
       "      <td>0</td>\n",
       "      <td>0</td>\n",
       "      <td>0</td>\n",
       "      <td>0</td>\n",
       "      <td>1</td>\n",
       "    </tr>\n",
       "    <tr>\n",
       "      <th>2378</th>\n",
       "      <td>2786</td>\n",
       "      <td>45</td>\n",
       "      <td>0</td>\n",
       "      <td>0</td>\n",
       "      <td>35370</td>\n",
       "      <td>2</td>\n",
       "      <td>2</td>\n",
       "      <td>2815090</td>\n",
       "      <td>1</td>\n",
       "      <td>1</td>\n",
       "      <td>...</td>\n",
       "      <td>0</td>\n",
       "      <td>0</td>\n",
       "      <td>0</td>\n",
       "      <td>0</td>\n",
       "      <td>0</td>\n",
       "      <td>0</td>\n",
       "      <td>0</td>\n",
       "      <td>0</td>\n",
       "      <td>0</td>\n",
       "      <td>0</td>\n",
       "    </tr>\n",
       "    <tr>\n",
       "      <th>2379</th>\n",
       "      <td>2787</td>\n",
       "      <td>28</td>\n",
       "      <td>1</td>\n",
       "      <td>2</td>\n",
       "      <td>69498</td>\n",
       "      <td>1</td>\n",
       "      <td>1</td>\n",
       "      <td>977830</td>\n",
       "      <td>1</td>\n",
       "      <td>1</td>\n",
       "      <td>...</td>\n",
       "      <td>0</td>\n",
       "      <td>0</td>\n",
       "      <td>0</td>\n",
       "      <td>0</td>\n",
       "      <td>0</td>\n",
       "      <td>0</td>\n",
       "      <td>0</td>\n",
       "      <td>0</td>\n",
       "      <td>0</td>\n",
       "      <td>0</td>\n",
       "    </tr>\n",
       "    <tr>\n",
       "      <th>2380</th>\n",
       "      <td>2788</td>\n",
       "      <td>30</td>\n",
       "      <td>0</td>\n",
       "      <td>2</td>\n",
       "      <td>70254</td>\n",
       "      <td>2</td>\n",
       "      <td>2</td>\n",
       "      <td>2298240</td>\n",
       "      <td>1</td>\n",
       "      <td>1</td>\n",
       "      <td>...</td>\n",
       "      <td>1</td>\n",
       "      <td>0</td>\n",
       "      <td>0</td>\n",
       "      <td>0</td>\n",
       "      <td>0</td>\n",
       "      <td>0</td>\n",
       "      <td>0</td>\n",
       "      <td>0</td>\n",
       "      <td>0</td>\n",
       "      <td>0</td>\n",
       "    </tr>\n",
       "  </tbody>\n",
       "</table>\n",
       "<p>2381 rows × 45 columns</p>\n",
       "</div>"
      ],
      "text/plain": [
       "      Driver_ID  Age  Gender  Education_Level  Income  Joining Designation  \\\n",
       "0             1   28       0                2   57387                    1   \n",
       "1             2   31       0                2   67016                    2   \n",
       "2             4   43       0                2   65603                    2   \n",
       "3             5   29       0                0   46368                    1   \n",
       "4             6   31       1                1   78728                    3   \n",
       "...         ...  ...     ...              ...     ...                  ...   \n",
       "2376       2784   34       0                0   82815                    2   \n",
       "2377       2785   34       1                0   12105                    1   \n",
       "2378       2786   45       0                0   35370                    2   \n",
       "2379       2787   28       1                2   69498                    1   \n",
       "2380       2788   30       0                2   70254                    2   \n",
       "\n",
       "      Grade  Total Business Value  Quarterly Rating_1  Quarterly Rating_2  \\\n",
       "0         1               1715580                   0                   1   \n",
       "1         2                     0                   1                   0   \n",
       "2         2                350000                   1                   0   \n",
       "3         1                120360                   1                   0   \n",
       "4         3               1265000                   1                   1   \n",
       "...     ...                   ...                 ...                 ...   \n",
       "2376      3              21748820                   1                   0   \n",
       "2377      1                     0                   1                   0   \n",
       "2378      2               2815090                   1                   1   \n",
       "2379      1                977830                   1                   1   \n",
       "2380      2               2298240                   1                   1   \n",
       "\n",
       "      ...  City_C27  City_C28  City_C29  City_C3  City_C4  City_C5  City_C6  \\\n",
       "0     ...         0         0         0        0        0        0        0   \n",
       "1     ...         0         0         0        0        0        0        0   \n",
       "2     ...         0         0         0        0        0        0        0   \n",
       "3     ...         0         0         0        0        0        0        0   \n",
       "4     ...         0         0         0        0        0        0        0   \n",
       "...   ...       ...       ...       ...      ...      ...      ...      ...   \n",
       "2376  ...         0         0         0        0        0        0        0   \n",
       "2377  ...         0         0         0        0        0        0        0   \n",
       "2378  ...         0         0         0        0        0        0        0   \n",
       "2379  ...         0         0         0        0        0        0        0   \n",
       "2380  ...         1         0         0        0        0        0        0   \n",
       "\n",
       "      City_C7  City_C8  City_C9  \n",
       "0           0        0        0  \n",
       "1           1        0        0  \n",
       "2           0        0        0  \n",
       "3           0        0        1  \n",
       "4           0        0        0  \n",
       "...       ...      ...      ...  \n",
       "2376        0        0        0  \n",
       "2377        0        0        1  \n",
       "2378        0        0        0  \n",
       "2379        0        0        0  \n",
       "2380        0        0        0  \n",
       "\n",
       "[2381 rows x 45 columns]"
      ]
     },
     "execution_count": 53,
     "metadata": {},
     "output_type": "execute_result"
    }
   ],
   "source": [
    "df1 = pd.merge(df1, QR, on='Driver_ID', how='inner')\n",
    "df1 = pd.merge(df1, C, on='Driver_ID', how='inner')\n",
    "df1 = pd.merge(df1, CT, on='Driver_ID', how='inner')\n",
    "df1"
   ]
  },
  {
   "cell_type": "markdown",
   "id": "b19e6013",
   "metadata": {},
   "source": [
    "### Now we have 1 row per 'Driver_ID' hence 'Driver_ID' can be dropped"
   ]
  },
  {
   "cell_type": "code",
   "execution_count": 54,
   "id": "65e12805",
   "metadata": {},
   "outputs": [],
   "source": [
    "df1.drop('Driver_ID', axis =1, inplace= True)"
   ]
  },
  {
   "cell_type": "markdown",
   "id": "bae959c7",
   "metadata": {},
   "source": [
    "## `KNN Imputation:`\n",
    " * As there is No Null values after final aggregtion, imputation is not required."
   ]
  },
  {
   "cell_type": "code",
   "execution_count": 55,
   "id": "f7c66a81",
   "metadata": {},
   "outputs": [
    {
     "name": "stdout",
     "output_type": "stream",
     "text": [
      "<class 'pandas.core.frame.DataFrame'>\n",
      "Int64Index: 2381 entries, 0 to 2380\n",
      "Data columns (total 44 columns):\n",
      " #   Column                Non-Null Count  Dtype\n",
      "---  ------                --------------  -----\n",
      " 0   Age                   2381 non-null   int64\n",
      " 1   Gender                2381 non-null   int64\n",
      " 2   Education_Level       2381 non-null   int64\n",
      " 3   Income                2381 non-null   int64\n",
      " 4   Joining Designation   2381 non-null   int64\n",
      " 5   Grade                 2381 non-null   int64\n",
      " 6   Total Business Value  2381 non-null   int64\n",
      " 7   Quarterly Rating_1    2381 non-null   uint8\n",
      " 8   Quarterly Rating_2    2381 non-null   uint8\n",
      " 9   Quarterly Rating_3    2381 non-null   uint8\n",
      " 10  Quarterly Rating_4    2381 non-null   uint8\n",
      " 11  Quatrly_Ratng_Inc     2381 non-null   int64\n",
      " 12  Income_Inc            2381 non-null   int64\n",
      " 13  Grade_Change          2381 non-null   int64\n",
      " 14  Target                2381 non-null   int64\n",
      " 15  City_C1               2381 non-null   uint8\n",
      " 16  City_C10              2381 non-null   uint8\n",
      " 17  City_C11              2381 non-null   uint8\n",
      " 18  City_C12              2381 non-null   uint8\n",
      " 19  City_C13              2381 non-null   uint8\n",
      " 20  City_C14              2381 non-null   uint8\n",
      " 21  City_C15              2381 non-null   uint8\n",
      " 22  City_C16              2381 non-null   uint8\n",
      " 23  City_C17              2381 non-null   uint8\n",
      " 24  City_C18              2381 non-null   uint8\n",
      " 25  City_C19              2381 non-null   uint8\n",
      " 26  City_C2               2381 non-null   uint8\n",
      " 27  City_C20              2381 non-null   uint8\n",
      " 28  City_C21              2381 non-null   uint8\n",
      " 29  City_C22              2381 non-null   uint8\n",
      " 30  City_C23              2381 non-null   uint8\n",
      " 31  City_C24              2381 non-null   uint8\n",
      " 32  City_C25              2381 non-null   uint8\n",
      " 33  City_C26              2381 non-null   uint8\n",
      " 34  City_C27              2381 non-null   uint8\n",
      " 35  City_C28              2381 non-null   uint8\n",
      " 36  City_C29              2381 non-null   uint8\n",
      " 37  City_C3               2381 non-null   uint8\n",
      " 38  City_C4               2381 non-null   uint8\n",
      " 39  City_C5               2381 non-null   uint8\n",
      " 40  City_C6               2381 non-null   uint8\n",
      " 41  City_C7               2381 non-null   uint8\n",
      " 42  City_C8               2381 non-null   uint8\n",
      " 43  City_C9               2381 non-null   uint8\n",
      "dtypes: int64(11), uint8(33)\n",
      "memory usage: 300.0 KB\n"
     ]
    }
   ],
   "source": [
    "df1.info()"
   ]
  },
  {
   "cell_type": "code",
   "execution_count": 56,
   "id": "a32d6b93",
   "metadata": {},
   "outputs": [
    {
     "data": {
      "text/html": [
       "<div>\n",
       "<style scoped>\n",
       "    .dataframe tbody tr th:only-of-type {\n",
       "        vertical-align: middle;\n",
       "    }\n",
       "\n",
       "    .dataframe tbody tr th {\n",
       "        vertical-align: top;\n",
       "    }\n",
       "\n",
       "    .dataframe thead th {\n",
       "        text-align: right;\n",
       "    }\n",
       "</style>\n",
       "<table border=\"1\" class=\"dataframe\">\n",
       "  <thead>\n",
       "    <tr style=\"text-align: right;\">\n",
       "      <th></th>\n",
       "      <th>Age</th>\n",
       "      <th>Gender</th>\n",
       "      <th>Education_Level</th>\n",
       "      <th>Income</th>\n",
       "      <th>Joining Designation</th>\n",
       "      <th>Grade</th>\n",
       "      <th>Total Business Value</th>\n",
       "      <th>Quarterly Rating_1</th>\n",
       "      <th>Quarterly Rating_2</th>\n",
       "      <th>Quarterly Rating_3</th>\n",
       "      <th>...</th>\n",
       "      <th>City_C27</th>\n",
       "      <th>City_C28</th>\n",
       "      <th>City_C29</th>\n",
       "      <th>City_C3</th>\n",
       "      <th>City_C4</th>\n",
       "      <th>City_C5</th>\n",
       "      <th>City_C6</th>\n",
       "      <th>City_C7</th>\n",
       "      <th>City_C8</th>\n",
       "      <th>City_C9</th>\n",
       "    </tr>\n",
       "  </thead>\n",
       "  <tbody>\n",
       "    <tr>\n",
       "      <th>0</th>\n",
       "      <td>28</td>\n",
       "      <td>0</td>\n",
       "      <td>2</td>\n",
       "      <td>57387</td>\n",
       "      <td>1</td>\n",
       "      <td>1</td>\n",
       "      <td>1715580</td>\n",
       "      <td>0</td>\n",
       "      <td>1</td>\n",
       "      <td>0</td>\n",
       "      <td>...</td>\n",
       "      <td>0</td>\n",
       "      <td>0</td>\n",
       "      <td>0</td>\n",
       "      <td>0</td>\n",
       "      <td>0</td>\n",
       "      <td>0</td>\n",
       "      <td>0</td>\n",
       "      <td>0</td>\n",
       "      <td>0</td>\n",
       "      <td>0</td>\n",
       "    </tr>\n",
       "    <tr>\n",
       "      <th>1</th>\n",
       "      <td>31</td>\n",
       "      <td>0</td>\n",
       "      <td>2</td>\n",
       "      <td>67016</td>\n",
       "      <td>2</td>\n",
       "      <td>2</td>\n",
       "      <td>0</td>\n",
       "      <td>1</td>\n",
       "      <td>0</td>\n",
       "      <td>0</td>\n",
       "      <td>...</td>\n",
       "      <td>0</td>\n",
       "      <td>0</td>\n",
       "      <td>0</td>\n",
       "      <td>0</td>\n",
       "      <td>0</td>\n",
       "      <td>0</td>\n",
       "      <td>0</td>\n",
       "      <td>1</td>\n",
       "      <td>0</td>\n",
       "      <td>0</td>\n",
       "    </tr>\n",
       "    <tr>\n",
       "      <th>2</th>\n",
       "      <td>43</td>\n",
       "      <td>0</td>\n",
       "      <td>2</td>\n",
       "      <td>65603</td>\n",
       "      <td>2</td>\n",
       "      <td>2</td>\n",
       "      <td>350000</td>\n",
       "      <td>1</td>\n",
       "      <td>0</td>\n",
       "      <td>0</td>\n",
       "      <td>...</td>\n",
       "      <td>0</td>\n",
       "      <td>0</td>\n",
       "      <td>0</td>\n",
       "      <td>0</td>\n",
       "      <td>0</td>\n",
       "      <td>0</td>\n",
       "      <td>0</td>\n",
       "      <td>0</td>\n",
       "      <td>0</td>\n",
       "      <td>0</td>\n",
       "    </tr>\n",
       "    <tr>\n",
       "      <th>3</th>\n",
       "      <td>29</td>\n",
       "      <td>0</td>\n",
       "      <td>0</td>\n",
       "      <td>46368</td>\n",
       "      <td>1</td>\n",
       "      <td>1</td>\n",
       "      <td>120360</td>\n",
       "      <td>1</td>\n",
       "      <td>0</td>\n",
       "      <td>0</td>\n",
       "      <td>...</td>\n",
       "      <td>0</td>\n",
       "      <td>0</td>\n",
       "      <td>0</td>\n",
       "      <td>0</td>\n",
       "      <td>0</td>\n",
       "      <td>0</td>\n",
       "      <td>0</td>\n",
       "      <td>0</td>\n",
       "      <td>0</td>\n",
       "      <td>1</td>\n",
       "    </tr>\n",
       "    <tr>\n",
       "      <th>4</th>\n",
       "      <td>31</td>\n",
       "      <td>1</td>\n",
       "      <td>1</td>\n",
       "      <td>78728</td>\n",
       "      <td>3</td>\n",
       "      <td>3</td>\n",
       "      <td>1265000</td>\n",
       "      <td>1</td>\n",
       "      <td>1</td>\n",
       "      <td>0</td>\n",
       "      <td>...</td>\n",
       "      <td>0</td>\n",
       "      <td>0</td>\n",
       "      <td>0</td>\n",
       "      <td>0</td>\n",
       "      <td>0</td>\n",
       "      <td>0</td>\n",
       "      <td>0</td>\n",
       "      <td>0</td>\n",
       "      <td>0</td>\n",
       "      <td>0</td>\n",
       "    </tr>\n",
       "  </tbody>\n",
       "</table>\n",
       "<p>5 rows × 44 columns</p>\n",
       "</div>"
      ],
      "text/plain": [
       "   Age  Gender  Education_Level  Income  Joining Designation  Grade  \\\n",
       "0   28       0                2   57387                    1      1   \n",
       "1   31       0                2   67016                    2      2   \n",
       "2   43       0                2   65603                    2      2   \n",
       "3   29       0                0   46368                    1      1   \n",
       "4   31       1                1   78728                    3      3   \n",
       "\n",
       "   Total Business Value  Quarterly Rating_1  Quarterly Rating_2  \\\n",
       "0               1715580                   0                   1   \n",
       "1                     0                   1                   0   \n",
       "2                350000                   1                   0   \n",
       "3                120360                   1                   0   \n",
       "4               1265000                   1                   1   \n",
       "\n",
       "   Quarterly Rating_3  ...  City_C27  City_C28  City_C29  City_C3  City_C4  \\\n",
       "0                   0  ...         0         0         0        0        0   \n",
       "1                   0  ...         0         0         0        0        0   \n",
       "2                   0  ...         0         0         0        0        0   \n",
       "3                   0  ...         0         0         0        0        0   \n",
       "4                   0  ...         0         0         0        0        0   \n",
       "\n",
       "   City_C5  City_C6  City_C7  City_C8  City_C9  \n",
       "0        0        0        0        0        0  \n",
       "1        0        0        1        0        0  \n",
       "2        0        0        0        0        0  \n",
       "3        0        0        0        0        1  \n",
       "4        0        0        0        0        0  \n",
       "\n",
       "[5 rows x 44 columns]"
      ]
     },
     "execution_count": 56,
     "metadata": {},
     "output_type": "execute_result"
    }
   ],
   "source": [
    "df1.head()"
   ]
  },
  {
   "cell_type": "markdown",
   "id": "c765d11d",
   "metadata": {},
   "source": [
    "### Statistical summary of the derived dataset"
   ]
  },
  {
   "cell_type": "code",
   "execution_count": 57,
   "id": "d32c1e6d",
   "metadata": {
    "scrolled": true
   },
   "outputs": [
    {
     "data": {
      "text/html": [
       "<div>\n",
       "<style scoped>\n",
       "    .dataframe tbody tr th:only-of-type {\n",
       "        vertical-align: middle;\n",
       "    }\n",
       "\n",
       "    .dataframe tbody tr th {\n",
       "        vertical-align: top;\n",
       "    }\n",
       "\n",
       "    .dataframe thead th {\n",
       "        text-align: right;\n",
       "    }\n",
       "</style>\n",
       "<table border=\"1\" class=\"dataframe\">\n",
       "  <thead>\n",
       "    <tr style=\"text-align: right;\">\n",
       "      <th></th>\n",
       "      <th>Age</th>\n",
       "      <th>Gender</th>\n",
       "      <th>Education_Level</th>\n",
       "      <th>Income</th>\n",
       "      <th>Joining Designation</th>\n",
       "      <th>Grade</th>\n",
       "      <th>Total Business Value</th>\n",
       "      <th>Quarterly Rating_1</th>\n",
       "      <th>Quarterly Rating_2</th>\n",
       "      <th>Quarterly Rating_3</th>\n",
       "      <th>...</th>\n",
       "      <th>City_C27</th>\n",
       "      <th>City_C28</th>\n",
       "      <th>City_C29</th>\n",
       "      <th>City_C3</th>\n",
       "      <th>City_C4</th>\n",
       "      <th>City_C5</th>\n",
       "      <th>City_C6</th>\n",
       "      <th>City_C7</th>\n",
       "      <th>City_C8</th>\n",
       "      <th>City_C9</th>\n",
       "    </tr>\n",
       "  </thead>\n",
       "  <tbody>\n",
       "    <tr>\n",
       "      <th>count</th>\n",
       "      <td>2381.000000</td>\n",
       "      <td>2381.000000</td>\n",
       "      <td>2381.00000</td>\n",
       "      <td>2381.000000</td>\n",
       "      <td>2381.000000</td>\n",
       "      <td>2381.000000</td>\n",
       "      <td>2.381000e+03</td>\n",
       "      <td>2381.000000</td>\n",
       "      <td>2381.000000</td>\n",
       "      <td>2381.000000</td>\n",
       "      <td>...</td>\n",
       "      <td>2381.000000</td>\n",
       "      <td>2381.000000</td>\n",
       "      <td>2381.000000</td>\n",
       "      <td>2381.000000</td>\n",
       "      <td>2381.000000</td>\n",
       "      <td>2381.000000</td>\n",
       "      <td>2381.000000</td>\n",
       "      <td>2381.000000</td>\n",
       "      <td>2381.000000</td>\n",
       "      <td>2381.000000</td>\n",
       "    </tr>\n",
       "    <tr>\n",
       "      <th>mean</th>\n",
       "      <td>33.663167</td>\n",
       "      <td>0.410332</td>\n",
       "      <td>1.00756</td>\n",
       "      <td>59336.159597</td>\n",
       "      <td>1.820244</td>\n",
       "      <td>2.097018</td>\n",
       "      <td>4.586742e+06</td>\n",
       "      <td>0.875682</td>\n",
       "      <td>0.412432</td>\n",
       "      <td>0.258715</td>\n",
       "      <td>...</td>\n",
       "      <td>0.037379</td>\n",
       "      <td>0.034439</td>\n",
       "      <td>0.040319</td>\n",
       "      <td>0.034439</td>\n",
       "      <td>0.032339</td>\n",
       "      <td>0.033599</td>\n",
       "      <td>0.032759</td>\n",
       "      <td>0.031919</td>\n",
       "      <td>0.037379</td>\n",
       "      <td>0.031499</td>\n",
       "    </tr>\n",
       "    <tr>\n",
       "      <th>std</th>\n",
       "      <td>5.983375</td>\n",
       "      <td>0.491997</td>\n",
       "      <td>0.81629</td>\n",
       "      <td>28383.012146</td>\n",
       "      <td>0.841433</td>\n",
       "      <td>0.941702</td>\n",
       "      <td>9.127115e+06</td>\n",
       "      <td>0.330013</td>\n",
       "      <td>0.492375</td>\n",
       "      <td>0.438021</td>\n",
       "      <td>...</td>\n",
       "      <td>0.189729</td>\n",
       "      <td>0.182393</td>\n",
       "      <td>0.196748</td>\n",
       "      <td>0.182393</td>\n",
       "      <td>0.176937</td>\n",
       "      <td>0.180233</td>\n",
       "      <td>0.178043</td>\n",
       "      <td>0.175822</td>\n",
       "      <td>0.189729</td>\n",
       "      <td>0.174700</td>\n",
       "    </tr>\n",
       "    <tr>\n",
       "      <th>min</th>\n",
       "      <td>21.000000</td>\n",
       "      <td>0.000000</td>\n",
       "      <td>0.00000</td>\n",
       "      <td>10747.000000</td>\n",
       "      <td>1.000000</td>\n",
       "      <td>1.000000</td>\n",
       "      <td>-1.385530e+06</td>\n",
       "      <td>0.000000</td>\n",
       "      <td>0.000000</td>\n",
       "      <td>0.000000</td>\n",
       "      <td>...</td>\n",
       "      <td>0.000000</td>\n",
       "      <td>0.000000</td>\n",
       "      <td>0.000000</td>\n",
       "      <td>0.000000</td>\n",
       "      <td>0.000000</td>\n",
       "      <td>0.000000</td>\n",
       "      <td>0.000000</td>\n",
       "      <td>0.000000</td>\n",
       "      <td>0.000000</td>\n",
       "      <td>0.000000</td>\n",
       "    </tr>\n",
       "    <tr>\n",
       "      <th>25%</th>\n",
       "      <td>29.000000</td>\n",
       "      <td>0.000000</td>\n",
       "      <td>0.00000</td>\n",
       "      <td>39104.000000</td>\n",
       "      <td>1.000000</td>\n",
       "      <td>1.000000</td>\n",
       "      <td>0.000000e+00</td>\n",
       "      <td>1.000000</td>\n",
       "      <td>0.000000</td>\n",
       "      <td>0.000000</td>\n",
       "      <td>...</td>\n",
       "      <td>0.000000</td>\n",
       "      <td>0.000000</td>\n",
       "      <td>0.000000</td>\n",
       "      <td>0.000000</td>\n",
       "      <td>0.000000</td>\n",
       "      <td>0.000000</td>\n",
       "      <td>0.000000</td>\n",
       "      <td>0.000000</td>\n",
       "      <td>0.000000</td>\n",
       "      <td>0.000000</td>\n",
       "    </tr>\n",
       "    <tr>\n",
       "      <th>50%</th>\n",
       "      <td>33.000000</td>\n",
       "      <td>0.000000</td>\n",
       "      <td>1.00000</td>\n",
       "      <td>55315.000000</td>\n",
       "      <td>2.000000</td>\n",
       "      <td>2.000000</td>\n",
       "      <td>8.176800e+05</td>\n",
       "      <td>1.000000</td>\n",
       "      <td>0.000000</td>\n",
       "      <td>0.000000</td>\n",
       "      <td>...</td>\n",
       "      <td>0.000000</td>\n",
       "      <td>0.000000</td>\n",
       "      <td>0.000000</td>\n",
       "      <td>0.000000</td>\n",
       "      <td>0.000000</td>\n",
       "      <td>0.000000</td>\n",
       "      <td>0.000000</td>\n",
       "      <td>0.000000</td>\n",
       "      <td>0.000000</td>\n",
       "      <td>0.000000</td>\n",
       "    </tr>\n",
       "    <tr>\n",
       "      <th>75%</th>\n",
       "      <td>37.000000</td>\n",
       "      <td>1.000000</td>\n",
       "      <td>2.00000</td>\n",
       "      <td>75986.000000</td>\n",
       "      <td>2.000000</td>\n",
       "      <td>3.000000</td>\n",
       "      <td>4.173650e+06</td>\n",
       "      <td>1.000000</td>\n",
       "      <td>1.000000</td>\n",
       "      <td>1.000000</td>\n",
       "      <td>...</td>\n",
       "      <td>0.000000</td>\n",
       "      <td>0.000000</td>\n",
       "      <td>0.000000</td>\n",
       "      <td>0.000000</td>\n",
       "      <td>0.000000</td>\n",
       "      <td>0.000000</td>\n",
       "      <td>0.000000</td>\n",
       "      <td>0.000000</td>\n",
       "      <td>0.000000</td>\n",
       "      <td>0.000000</td>\n",
       "    </tr>\n",
       "    <tr>\n",
       "      <th>max</th>\n",
       "      <td>58.000000</td>\n",
       "      <td>1.000000</td>\n",
       "      <td>2.00000</td>\n",
       "      <td>188418.000000</td>\n",
       "      <td>5.000000</td>\n",
       "      <td>5.000000</td>\n",
       "      <td>9.533106e+07</td>\n",
       "      <td>1.000000</td>\n",
       "      <td>1.000000</td>\n",
       "      <td>1.000000</td>\n",
       "      <td>...</td>\n",
       "      <td>1.000000</td>\n",
       "      <td>1.000000</td>\n",
       "      <td>1.000000</td>\n",
       "      <td>1.000000</td>\n",
       "      <td>1.000000</td>\n",
       "      <td>1.000000</td>\n",
       "      <td>1.000000</td>\n",
       "      <td>1.000000</td>\n",
       "      <td>1.000000</td>\n",
       "      <td>1.000000</td>\n",
       "    </tr>\n",
       "  </tbody>\n",
       "</table>\n",
       "<p>8 rows × 44 columns</p>\n",
       "</div>"
      ],
      "text/plain": [
       "               Age       Gender  Education_Level         Income  \\\n",
       "count  2381.000000  2381.000000       2381.00000    2381.000000   \n",
       "mean     33.663167     0.410332          1.00756   59336.159597   \n",
       "std       5.983375     0.491997          0.81629   28383.012146   \n",
       "min      21.000000     0.000000          0.00000   10747.000000   \n",
       "25%      29.000000     0.000000          0.00000   39104.000000   \n",
       "50%      33.000000     0.000000          1.00000   55315.000000   \n",
       "75%      37.000000     1.000000          2.00000   75986.000000   \n",
       "max      58.000000     1.000000          2.00000  188418.000000   \n",
       "\n",
       "       Joining Designation        Grade  Total Business Value  \\\n",
       "count          2381.000000  2381.000000          2.381000e+03   \n",
       "mean              1.820244     2.097018          4.586742e+06   \n",
       "std               0.841433     0.941702          9.127115e+06   \n",
       "min               1.000000     1.000000         -1.385530e+06   \n",
       "25%               1.000000     1.000000          0.000000e+00   \n",
       "50%               2.000000     2.000000          8.176800e+05   \n",
       "75%               2.000000     3.000000          4.173650e+06   \n",
       "max               5.000000     5.000000          9.533106e+07   \n",
       "\n",
       "       Quarterly Rating_1  Quarterly Rating_2  Quarterly Rating_3  ...  \\\n",
       "count         2381.000000         2381.000000         2381.000000  ...   \n",
       "mean             0.875682            0.412432            0.258715  ...   \n",
       "std              0.330013            0.492375            0.438021  ...   \n",
       "min              0.000000            0.000000            0.000000  ...   \n",
       "25%              1.000000            0.000000            0.000000  ...   \n",
       "50%              1.000000            0.000000            0.000000  ...   \n",
       "75%              1.000000            1.000000            1.000000  ...   \n",
       "max              1.000000            1.000000            1.000000  ...   \n",
       "\n",
       "          City_C27     City_C28     City_C29      City_C3      City_C4  \\\n",
       "count  2381.000000  2381.000000  2381.000000  2381.000000  2381.000000   \n",
       "mean      0.037379     0.034439     0.040319     0.034439     0.032339   \n",
       "std       0.189729     0.182393     0.196748     0.182393     0.176937   \n",
       "min       0.000000     0.000000     0.000000     0.000000     0.000000   \n",
       "25%       0.000000     0.000000     0.000000     0.000000     0.000000   \n",
       "50%       0.000000     0.000000     0.000000     0.000000     0.000000   \n",
       "75%       0.000000     0.000000     0.000000     0.000000     0.000000   \n",
       "max       1.000000     1.000000     1.000000     1.000000     1.000000   \n",
       "\n",
       "           City_C5      City_C6      City_C7      City_C8      City_C9  \n",
       "count  2381.000000  2381.000000  2381.000000  2381.000000  2381.000000  \n",
       "mean      0.033599     0.032759     0.031919     0.037379     0.031499  \n",
       "std       0.180233     0.178043     0.175822     0.189729     0.174700  \n",
       "min       0.000000     0.000000     0.000000     0.000000     0.000000  \n",
       "25%       0.000000     0.000000     0.000000     0.000000     0.000000  \n",
       "50%       0.000000     0.000000     0.000000     0.000000     0.000000  \n",
       "75%       0.000000     0.000000     0.000000     0.000000     0.000000  \n",
       "max       1.000000     1.000000     1.000000     1.000000     1.000000  \n",
       "\n",
       "[8 rows x 44 columns]"
      ]
     },
     "execution_count": 57,
     "metadata": {},
     "output_type": "execute_result"
    }
   ],
   "source": [
    "df1.describe()"
   ]
  },
  {
   "cell_type": "markdown",
   "id": "9342a38b",
   "metadata": {},
   "source": [
    "## Outlier Treatment \n",
    "### 'Income' \n",
    "  * Quantile based flooring and capping"
   ]
  },
  {
   "cell_type": "code",
   "execution_count": 58,
   "id": "ba5f0d92",
   "metadata": {},
   "outputs": [
    {
     "data": {
      "text/plain": [
       "<AxesSubplot:xlabel='Income'>"
      ]
     },
     "execution_count": 58,
     "metadata": {},
     "output_type": "execute_result"
    },
    {
     "data": {
      "image/png": "[encoded data removed]",
      "text/plain": [
       "<Figure size 504x144 with 1 Axes>"
      ]
     },
     "metadata": {},
     "output_type": "display_data"
    }
   ],
   "source": [
    "sns.set(rc={'figure.figsize':(7,2)})\n",
    "sns.boxplot(df1.Income)"
   ]
  },
  {
   "cell_type": "code",
   "execution_count": 59,
   "id": "1521fc2b",
   "metadata": {},
   "outputs": [
    {
     "data": {
      "text/plain": [
       "<AxesSubplot:xlabel='Income'>"
      ]
     },
     "execution_count": 59,
     "metadata": {},
     "output_type": "execute_result"
    },
    {
     "data": {
      "image/png": "[encoded data removed]",
      "text/plain": [
       "<Figure size 504x144 with 1 Axes>"
      ]
     },
     "metadata": {},
     "output_type": "display_data"
    }
   ],
   "source": [
    "q1 = np.percentile(df1.Income, 25)\n",
    "q3 = np.percentile(df1.Income, 75)\n",
    "IQR = q3-q1\n",
    "lwr_bound = q1-(1.5*IQR)\n",
    "upr_bound = q3+(1.5*IQR)\n",
    "df1.Income = np.where(df1.Income < lwr_bound, lwr_bound, df1.Income)\n",
    "df1.Income = np.where(df1.Income > upr_bound, upr_bound, df1.Income)\n",
    "sns.boxplot(df1.Income)"
   ]
  },
  {
   "cell_type": "markdown",
   "id": "8bc22f7d",
   "metadata": {},
   "source": [
    "### 'Total Business Value'"
   ]
  },
  {
   "cell_type": "code",
   "execution_count": 60,
   "id": "01c531d0",
   "metadata": {},
   "outputs": [
    {
     "data": {
      "text/plain": [
       "<AxesSubplot:xlabel='Total Business Value'>"
      ]
     },
     "execution_count": 60,
     "metadata": {},
     "output_type": "execute_result"
    },
    {
     "data": {
      "image/png": "[encoded data removed]",
      "text/plain": [
       "<Figure size 504x144 with 1 Axes>"
      ]
     },
     "metadata": {},
     "output_type": "display_data"
    }
   ],
   "source": [
    "sns.boxplot(df1['Total Business Value'])"
   ]
  },
  {
   "cell_type": "code",
   "execution_count": 61,
   "id": "0c5b4ae2",
   "metadata": {},
   "outputs": [
    {
     "data": {
      "text/plain": [
       "<AxesSubplot:xlabel='Total Business Value'>"
      ]
     },
     "execution_count": 61,
     "metadata": {},
     "output_type": "execute_result"
    },
    {
     "data": {
      "image/png": "[encoded data removed]",
      "text/plain": [
       "<Figure size 504x144 with 1 Axes>"
      ]
     },
     "metadata": {},
     "output_type": "display_data"
    }
   ],
   "source": [
    "q1 = np.percentile(df1['Total Business Value'], 25)\n",
    "q3 = np.percentile(df1['Total Business Value'], 75)\n",
    "IQR = q3-q1\n",
    "lwr_bound = q1-(1.5*IQR)\n",
    "upr_bound = q3+(1.5*IQR)\n",
    "df1['Total Business Value'] = np.where(df1['Total Business Value'] < lwr_bound, lwr_bound, df1['Total Business Value'])\n",
    "df1['Total Business Value'] = np.where(df1['Total Business Value'] > upr_bound, upr_bound, df1['Total Business Value'])\n",
    "sns.boxplot(df1['Total Business Value'])"
   ]
  },
  {
   "cell_type": "markdown",
   "id": "17047ada",
   "metadata": {},
   "source": [
    "### `Check Class Imbalance`"
   ]
  },
  {
   "cell_type": "code",
   "execution_count": 62,
   "id": "db9bcdbc",
   "metadata": {},
   "outputs": [
    {
     "data": {
      "text/plain": [
       "1    67.870643\n",
       "0    32.129357\n",
       "Name: Target, dtype: float64"
      ]
     },
     "execution_count": 62,
     "metadata": {},
     "output_type": "execute_result"
    }
   ],
   "source": [
    "df1.Target.value_counts(normalize=True)*100"
   ]
  },
  {
   "cell_type": "markdown",
   "id": "fa85edf5",
   "metadata": {},
   "source": [
    "### `Standardization`\n",
    "#### Defining X and Y of our data:"
   ]
  },
  {
   "cell_type": "code",
   "execution_count": 63,
   "id": "bd7591a3",
   "metadata": {},
   "outputs": [],
   "source": [
    "Y = df1[\"Target\"]\n",
    "X = df1.drop(columns = [\"Target\"])"
   ]
  },
  {
   "cell_type": "markdown",
   "id": "12b464e5",
   "metadata": {},
   "source": [
    "#### Train, Validation, Test Split"
   ]
  },
  {
   "cell_type": "code",
   "execution_count": 64,
   "id": "d56c71a7",
   "metadata": {},
   "outputs": [
    {
     "name": "stdout",
     "output_type": "stream",
     "text": [
      "Sizes of the sets created are:\n",
      "Training set:1904\n",
      "Test set:477\n"
     ]
    }
   ],
   "source": [
    "from sklearn.model_selection import train_test_split\n",
    "\n",
    "X = np.array(X.values)\n",
    "Y = np.array(Y.values)\n",
    "\n",
    "X_train, X_test, Y_train, Y_test = train_test_split(X, Y, test_size = 0.2, shuffle = True)\n",
    "\n",
    "print(f\"Sizes of the sets created are:\\nTraining set:{X_train.shape[0]}\\nTest set:{X_test.shape[0]}\")"
   ]
  },
  {
   "cell_type": "code",
   "execution_count": 65,
   "id": "53f2603e",
   "metadata": {},
   "outputs": [],
   "source": [
    "from sklearn.preprocessing import StandardScaler\n",
    "MM = MinMaxScaler()\n",
    "X_train_MM = MM.fit_transform(X_train)\n",
    "X_test_MM = MM.fit_transform(X_test)"
   ]
  },
  {
   "cell_type": "markdown",
   "id": "71fff3cb",
   "metadata": {},
   "source": [
    "# `Boosting`"
   ]
  },
  {
   "cell_type": "code",
   "execution_count": 66,
   "id": "cffffc12",
   "metadata": {},
   "outputs": [
    {
     "name": "stdout",
     "output_type": "stream",
     "text": [
      "      Iter       Train Loss   Remaining Time \n",
      "         1           1.1116            1.38s\n",
      "         2           1.0271            1.10s\n",
      "         3           0.9697            1.07s\n",
      "         4           0.9301            0.99s\n",
      "         5           0.8998            0.91s\n",
      "         6           0.8758            0.85s\n",
      "         7           0.8578            0.83s\n",
      "         8           0.8399            0.82s\n",
      "         9           0.8263            0.79s\n",
      "        10           0.8110            0.78s\n",
      "        20           0.7220            0.69s\n",
      "        30           0.6625            0.68s\n",
      "        40           0.6097            0.66s\n",
      "        50           0.5665            0.63s\n",
      "        60           0.5095            0.59s\n",
      "        70           0.4734            0.56s\n",
      "        80           0.4313            0.52s\n",
      "        90           0.4021            0.47s\n",
      "       100           0.3781            0.41s\n",
      "       200           0.2022            0.00s\n",
      "Training accuracy:0.993172268907563\n",
      "Test Accuracy: 0.7882599580712788\n"
     ]
    }
   ],
   "source": [
    "from sklearn.ensemble import GradientBoostingClassifier as GBC\n",
    "\n",
    "model3 = GBC(n_estimators=200, learning_rate=0.23, max_depth=4, random_state=0, verbose = 1).fit(X_train_MM, Y_train)\n",
    "print(f\"Training accuracy:{model3.score(X_train_MM, Y_train)}\\nTest Accuracy: {model3.score(X_test_MM, Y_test)}\")"
   ]
  },
  {
   "cell_type": "markdown",
   "id": "8f513a49",
   "metadata": {},
   "source": [
    "## `Feature Importance plot`"
   ]
  },
  {
   "cell_type": "code",
   "execution_count": 67,
   "id": "b371c628",
   "metadata": {},
   "outputs": [
    {
     "data": {
      "text/plain": [
       "Text(0.5, 1.0, 'Feature Importance (MDI)')"
      ]
     },
     "execution_count": 67,
     "metadata": {},
     "output_type": "execute_result"
    },
    {
     "data": {
      "image/png": "[encoded data removed]",
      "text/plain": [
       "<Figure size 792x648 with 1 Axes>"
      ]
     },
     "metadata": {},
     "output_type": "display_data"
    }
   ],
   "source": [
    "feature_importance = model3.feature_importances_\n",
    "sorted_idx = np.argsort(feature_importance)\n",
    "pos = np.arange(sorted_idx.shape[0]) + 0.5\n",
    "fig = plt.figure(figsize=(11, 9))\n",
    "\n",
    "plt.barh(pos, feature_importance[sorted_idx], align=\"center\")\n",
    "plt.yticks(pos, np.array(df1.columns)[sorted_idx])\n",
    "plt.title(\"Feature Importance (MDI)\")"
   ]
  },
  {
   "cell_type": "markdown",
   "id": "8d9e4379",
   "metadata": {},
   "source": [
    "### Plotting loss"
   ]
  },
  {
   "cell_type": "code",
   "execution_count": 68,
   "id": "8af6ed8e",
   "metadata": {},
   "outputs": [
    {
     "data": {
      "image/png": "[encoded data removed]",
      "text/plain": [
       "<Figure size 360x288 with 1 Axes>"
      ]
     },
     "metadata": {},
     "output_type": "display_data"
    }
   ],
   "source": [
    "sns.set(rc={'figure.figsize':(5,4)})\n",
    "plt.plot(model3.train_score_)\n",
    "\n",
    "plt.xlabel(\"Boosting Iterations\")\n",
    "plt.ylabel('loss')\n",
    "plt.title('Iter vs loss')\n",
    "plt.show()"
   ]
  },
  {
   "cell_type": "code",
   "execution_count": 69,
   "id": "ea29e8f3",
   "metadata": {},
   "outputs": [
    {
     "name": "stdout",
     "output_type": "stream",
     "text": [
      "F1 score: 0.8567375886524823\n"
     ]
    }
   ],
   "source": [
    "y_pred_test = model3.predict(X_test_MM)\n",
    "print('F1 score:', f1_score(Y_test, y_pred_test))"
   ]
  },
  {
   "cell_type": "markdown",
   "id": "d0ad42a9",
   "metadata": {},
   "source": [
    "# ` Boosting Results Evaluation`\n",
    "  * ROC AUC Curve & comments\n",
    "  * Classification Report (Confusion Matrix etc)"
   ]
  },
  {
   "cell_type": "code",
   "execution_count": 70,
   "id": "de0bffd8",
   "metadata": {},
   "outputs": [
    {
     "data": {
      "image/png": "[encoded data removed]",
      "text/plain": [
       "<Figure size 288x288 with 1 Axes>"
      ]
     },
     "metadata": {},
     "output_type": "display_data"
    },
    {
     "name": "stdout",
     "output_type": "stream",
     "text": [
      "Area under ROC AUC Curve : 0.7699443413729128\n"
     ]
    }
   ],
   "source": [
    "from sklearn.metrics import roc_curve, roc_auc_score\n",
    "\n",
    "pred_prob2 = model3.predict_proba(X_test_MM)\n",
    "fpr, tpr, thr = roc_curve(Y_test,np.ravel(pred_prob2[:,1]))\n",
    "plt.subplots(figsize=(4,4))\n",
    "plt.plot(fpr,tpr)\n",
    "plt.title('ROC curve')\n",
    "plt.xlabel('FPR')\n",
    "plt.ylabel('TPR')\n",
    "plt.show()\n",
    "print('Area under ROC AUC Curve :', roc_auc_score(Y_test,np.ravel(pred_prob2[:,1])))"
   ]
  },
  {
   "cell_type": "code",
   "execution_count": 71,
   "id": "233d1bc4",
   "metadata": {},
   "outputs": [
    {
     "name": "stdout",
     "output_type": "stream",
     "text": [
      "[[ 74  73]\n",
      " [ 28 302]]\n"
     ]
    },
    {
     "data": {
      "image/png": "[encoded data removed]",
      "text/plain": [
       "<Figure size 504x288 with 2 Axes>"
      ]
     },
     "metadata": {},
     "output_type": "display_data"
    }
   ],
   "source": [
    "from sklearn.metrics import confusion_matrix, classification_report, plot_confusion_matrix\n",
    "from sklearn.metrics import ConfusionMatrixDisplay\n",
    "\n",
    "conf_mat = confusion_matrix(Y_test, model3.predict(X_test_MM))\n",
    "\n",
    "#Plotting the confusion matrix\n",
    "fig, ax = plt.subplots(figsize=(7,4))\n",
    "cmp = ConfusionMatrixDisplay(conf_mat, display_labels=np.arange(2))\n",
    "cmp.plot(ax=ax)\n",
    "plt.title('Confusion Matrix')\n",
    "plt.ylabel('Actal Values')\n",
    "plt.xlabel('Predicted Values')\n",
    "print(conf_mat)\n",
    "plt.show()"
   ]
  },
  {
   "cell_type": "markdown",
   "id": "53e12472",
   "metadata": {},
   "source": [
    "# `Bagging  using  RandomForest`"
   ]
  },
  {
   "cell_type": "code",
   "execution_count": 86,
   "id": "1004ffe1",
   "metadata": {},
   "outputs": [
    {
     "name": "stdout",
     "output_type": "stream",
     "text": [
      "Training accuracy:0.7899159663865546\n",
      "Test Accuracy: 0.80083857442348\n",
      "              precision    recall  f1-score   support\n",
      "\n",
      "           0       0.81      0.46      0.59       147\n",
      "           1       0.80      0.95      0.87       330\n",
      "\n",
      "    accuracy                           0.80       477\n",
      "   macro avg       0.80      0.71      0.73       477\n",
      "weighted avg       0.80      0.80      0.78       477\n",
      "\n",
      "F1 score: 0.8686030428769018\n"
     ]
    },
    {
     "data": {
      "image/png": "[encoded data removed]",
      "text/plain": [
       "<Figure size 792x360 with 1 Axes>"
      ]
     },
     "metadata": {},
     "output_type": "display_data"
    }
   ],
   "source": [
    "from sklearn.ensemble import RandomForestClassifier\n",
    "# from sklearn.utils  import ClassWeight\n",
    "\n",
    "clf = RandomForestClassifier(max_depth=4, n_estimators=200)\n",
    "clf.fit(X, Y)\n",
    "print(f\"Training accuracy:{clf.score(X_train, Y_train)}\\nTest Accuracy: {clf.score(X_test, Y_test)}\")\n",
    "print(classification_report(Y_test, clf.predict(X_test)))\n",
    "print('F1 score:',f1_score(Y_test, clf.predict(X_test)))\n",
    "importances = clf.feature_importances_\n",
    "indices = np.argsort(importances)[::-1] # Sort feature importances in descending order\n",
    "names = [df1.columns[i] for i in indices] # Rearrange feature names so they match the sorted feature importances\n",
    "plt.figure(figsize=(11, 5)) # Create plot\n",
    "plt.title(\"Feature Importance\") # Create plot title\n",
    "plt.bar(range(X.shape[1]), importances[indices]) # Add bars\n",
    "plt.xticks(range(X.shape[1]), names, rotation=90) # Add feature names as x-axis labels\n",
    "plt.show() # Show plot"
   ]
  },
  {
   "cell_type": "code",
   "execution_count": 91,
   "id": "d5df38a2",
   "metadata": {},
   "outputs": [
    {
     "name": "stdout",
     "output_type": "stream",
     "text": [
      "Training accuracy:0.7962184873949579\n",
      "Test Accuracy: 0.7756813417190775\n",
      "              precision    recall  f1-score   support\n",
      "\n",
      "           0       0.65      0.59      0.62       147\n",
      "           1       0.83      0.86      0.84       330\n",
      "\n",
      "    accuracy                           0.78       477\n",
      "   macro avg       0.74      0.72      0.73       477\n",
      "weighted avg       0.77      0.78      0.77       477\n",
      "\n",
      "F1 score: 0.8410104011887073\n"
     ]
    },
    {
     "data": {
      "image/png": "[encoded data removed]",
      "text/plain": [
       "<Figure size 792x360 with 1 Axes>"
      ]
     },
     "metadata": {},
     "output_type": "display_data"
    }
   ],
   "source": [
    "from sklearn.ensemble import RandomForestClassifier\n",
    "from sklearn.utils import class_weight\n",
    "\n",
    "clf = RandomForestClassifier(max_depth=3, n_estimators=200, class_weight ='balanced')\n",
    "clf.fit(X, Y)\n",
    "print(f\"Training accuracy:{clf.score(X_train, Y_train)}\\nTest Accuracy: {clf.score(X_test, Y_test)}\")\n",
    "print(classification_report(Y_test, clf.predict(X_test)))\n",
    "print('F1 score:',f1_score(Y_test, clf.predict(X_test)))\n",
    "importances = clf.feature_importances_\n",
    "indices = np.argsort(importances)[::-1] # Sort feature importances in descending order\n",
    "names = [df1.columns[i] for i in indices] # Rearrange feature names so they match the sorted feature importances\n",
    "plt.figure(figsize=(11, 5)) # Create plot\n",
    "plt.title(\"Feature Importance\") # Create plot title\n",
    "plt.bar(range(X.shape[1]), importances[indices]) # Add bars\n",
    "plt.xticks(range(X.shape[1]), names, rotation=90) # Add feature names as x-axis labels\n",
    "plt.show() # Show plot"
   ]
  },
  {
   "cell_type": "markdown",
   "id": "02d8948c",
   "metadata": {},
   "source": [
    "## Bagging Evaluation: "
   ]
  },
  {
   "cell_type": "code",
   "execution_count": 84,
   "id": "18783e4a",
   "metadata": {},
   "outputs": [
    {
     "name": "stdout",
     "output_type": "stream",
     "text": [
      "              precision    recall  f1-score   support\n",
      "\n",
      "           0       0.81      0.45      0.58       147\n",
      "           1       0.80      0.95      0.87       330\n",
      "\n",
      "    accuracy                           0.80       477\n",
      "   macro avg       0.81      0.70      0.72       477\n",
      "weighted avg       0.80      0.80      0.78       477\n",
      "\n",
      "F1 score: 0.8677685950413222\n"
     ]
    }
   ],
   "source": [
    "print(classification_report(Y_test, clf.predict(X_test)))\n",
    "print('F1 score:',f1_score(Y_test, clf.predict(X_test)))"
   ]
  },
  {
   "cell_type": "code",
   "execution_count": 74,
   "id": "f89e0b3f",
   "metadata": {},
   "outputs": [
    {
     "data": {
      "image/png": "[encoded data removed]",
      "text/plain": [
       "<Figure size 288x288 with 1 Axes>"
      ]
     },
     "metadata": {},
     "output_type": "display_data"
    },
    {
     "name": "stdout",
     "output_type": "stream",
     "text": [
      "Area under ROC AUC Curve : 0.809647495361781\n"
     ]
    }
   ],
   "source": [
    "pred_prob2 = clf.predict_proba(X_test)\n",
    "fpr, tpr, thr = roc_curve(Y_test,np.ravel(pred_prob2[:,1]))\n",
    "plt.subplots(figsize=(4,4))\n",
    "plt.plot(fpr,tpr)\n",
    "plt.title('ROC curve')\n",
    "plt.xlabel('FPR')\n",
    "plt.ylabel('TPR')\n",
    "plt.show()\n",
    "print('Area under ROC AUC Curve :', roc_auc_score(Y_test,np.ravel(pred_prob2[:,1])))"
   ]
  },
  {
   "cell_type": "code",
   "execution_count": 75,
   "id": "c14b7c38",
   "metadata": {},
   "outputs": [
    {
     "name": "stdout",
     "output_type": "stream",
     "text": [
      "[[ 66  81]\n",
      " [ 15 315]]\n"
     ]
    },
    {
     "data": {
      "image/png": "[encoded data removed]",
      "text/plain": [
       "<Figure size 288x288 with 2 Axes>"
      ]
     },
     "metadata": {},
     "output_type": "display_data"
    }
   ],
   "source": [
    "conf_mat = confusion_matrix(Y_test, clf.predict(X_test))\n",
    "\n",
    "#Plotting the confusion matrix\n",
    "fig, ax = plt.subplots(figsize=(4,4))\n",
    "cmp = ConfusionMatrixDisplay(conf_mat, display_labels=np.arange(2))\n",
    "cmp.plot(ax=ax)\n",
    "plt.title('Confusion Matrix')\n",
    "plt.ylabel('Actal Values')\n",
    "plt.xlabel('Predicted Values')\n",
    "print(conf_mat)\n",
    "plt.show()"
   ]
  },
  {
   "cell_type": "markdown",
   "id": "519cc593",
   "metadata": {},
   "source": [
    "### Other additional analysis based on Boosting/ Bagging Evaluation:"
   ]
  },
  {
   "cell_type": "code",
   "execution_count": 76,
   "id": "8fea3d71",
   "metadata": {},
   "outputs": [
    {
     "data": {
      "text/plain": [
       "<AxesSubplot:xlabel='Quatrly_Ratng_Inc'>"
      ]
     },
     "execution_count": 76,
     "metadata": {},
     "output_type": "execute_result"
    },
    {
     "data": {
      "image/png": "[encoded data removed]",
      "text/plain": [
       "<Figure size 360x288 with 1 Axes>"
      ]
     },
     "metadata": {},
     "output_type": "display_data"
    }
   ],
   "source": [
    "pd.crosstab(df1['Quatrly_Ratng_Inc'], df1['Target']).plot(kind='bar', stacked=True)"
   ]
  },
  {
   "cell_type": "code",
   "execution_count": 77,
   "id": "be79464d",
   "metadata": {},
   "outputs": [
    {
     "data": {
      "text/plain": [
       "<AxesSubplot:xlabel='Grade'>"
      ]
     },
     "execution_count": 77,
     "metadata": {},
     "output_type": "execute_result"
    },
    {
     "data": {
      "image/png": "[encoded data removed]",
      "text/plain": [
       "<Figure size 360x288 with 1 Axes>"
      ]
     },
     "metadata": {},
     "output_type": "display_data"
    }
   ],
   "source": [
    "pd.crosstab(df1['Grade'], df1['Target']).plot(kind='bar', stacked=True)"
   ]
  },
  {
   "cell_type": "code",
   "execution_count": 78,
   "id": "0676e211",
   "metadata": {},
   "outputs": [
    {
     "data": {
      "text/html": [
       "<div>\n",
       "<style scoped>\n",
       "    .dataframe tbody tr th:only-of-type {\n",
       "        vertical-align: middle;\n",
       "    }\n",
       "\n",
       "    .dataframe tbody tr th {\n",
       "        vertical-align: top;\n",
       "    }\n",
       "\n",
       "    .dataframe thead th {\n",
       "        text-align: right;\n",
       "    }\n",
       "</style>\n",
       "<table border=\"1\" class=\"dataframe\">\n",
       "  <thead>\n",
       "    <tr style=\"text-align: right;\">\n",
       "      <th>Target</th>\n",
       "      <th>0</th>\n",
       "      <th>1</th>\n",
       "      <th>All</th>\n",
       "    </tr>\n",
       "    <tr>\n",
       "      <th>Grade</th>\n",
       "      <th></th>\n",
       "      <th></th>\n",
       "      <th></th>\n",
       "    </tr>\n",
       "  </thead>\n",
       "  <tbody>\n",
       "    <tr>\n",
       "      <th>1</th>\n",
       "      <td>6.09</td>\n",
       "      <td>25.03</td>\n",
       "      <td>31.12</td>\n",
       "    </tr>\n",
       "    <tr>\n",
       "      <th>2</th>\n",
       "      <td>10.67</td>\n",
       "      <td>25.20</td>\n",
       "      <td>35.87</td>\n",
       "    </tr>\n",
       "    <tr>\n",
       "      <th>3</th>\n",
       "      <td>12.05</td>\n",
       "      <td>14.15</td>\n",
       "      <td>26.21</td>\n",
       "    </tr>\n",
       "    <tr>\n",
       "      <th>4</th>\n",
       "      <td>2.86</td>\n",
       "      <td>2.94</td>\n",
       "      <td>5.80</td>\n",
       "    </tr>\n",
       "    <tr>\n",
       "      <th>5</th>\n",
       "      <td>0.46</td>\n",
       "      <td>0.55</td>\n",
       "      <td>1.01</td>\n",
       "    </tr>\n",
       "    <tr>\n",
       "      <th>All</th>\n",
       "      <td>32.13</td>\n",
       "      <td>67.87</td>\n",
       "      <td>100.00</td>\n",
       "    </tr>\n",
       "  </tbody>\n",
       "</table>\n",
       "</div>"
      ],
      "text/plain": [
       "Target      0      1     All\n",
       "Grade                       \n",
       "1        6.09  25.03   31.12\n",
       "2       10.67  25.20   35.87\n",
       "3       12.05  14.15   26.21\n",
       "4        2.86   2.94    5.80\n",
       "5        0.46   0.55    1.01\n",
       "All     32.13  67.87  100.00"
      ]
     },
     "execution_count": 78,
     "metadata": {},
     "output_type": "execute_result"
    }
   ],
   "source": [
    "pd.crosstab(df1['Grade'], df1['Target'],margins = True,normalize='all').round(4)*100"
   ]
  },
  {
   "cell_type": "code",
   "execution_count": 79,
   "id": "58060733",
   "metadata": {},
   "outputs": [
    {
     "data": {
      "text/html": [
       "<div>\n",
       "<style scoped>\n",
       "    .dataframe tbody tr th:only-of-type {\n",
       "        vertical-align: middle;\n",
       "    }\n",
       "\n",
       "    .dataframe tbody tr th {\n",
       "        vertical-align: top;\n",
       "    }\n",
       "\n",
       "    .dataframe thead th {\n",
       "        text-align: right;\n",
       "    }\n",
       "</style>\n",
       "<table border=\"1\" class=\"dataframe\">\n",
       "  <thead>\n",
       "    <tr style=\"text-align: right;\">\n",
       "      <th>Target</th>\n",
       "      <th>0</th>\n",
       "      <th>1</th>\n",
       "      <th>All</th>\n",
       "    </tr>\n",
       "    <tr>\n",
       "      <th>Income_Inc</th>\n",
       "      <th></th>\n",
       "      <th></th>\n",
       "      <th></th>\n",
       "    </tr>\n",
       "  </thead>\n",
       "  <tbody>\n",
       "    <tr>\n",
       "      <th>0</th>\n",
       "      <td>30.45</td>\n",
       "      <td>67.74</td>\n",
       "      <td>98.19</td>\n",
       "    </tr>\n",
       "    <tr>\n",
       "      <th>1</th>\n",
       "      <td>1.68</td>\n",
       "      <td>0.13</td>\n",
       "      <td>1.81</td>\n",
       "    </tr>\n",
       "    <tr>\n",
       "      <th>All</th>\n",
       "      <td>32.13</td>\n",
       "      <td>67.87</td>\n",
       "      <td>100.00</td>\n",
       "    </tr>\n",
       "  </tbody>\n",
       "</table>\n",
       "</div>"
      ],
      "text/plain": [
       "Target          0      1     All\n",
       "Income_Inc                      \n",
       "0           30.45  67.74   98.19\n",
       "1            1.68   0.13    1.81\n",
       "All         32.13  67.87  100.00"
      ]
     },
     "execution_count": 79,
     "metadata": {},
     "output_type": "execute_result"
    },
    {
     "data": {
      "image/png": "[encoded data removed]",
      "text/plain": [
       "<Figure size 360x288 with 1 Axes>"
      ]
     },
     "metadata": {},
     "output_type": "display_data"
    }
   ],
   "source": [
    "pd.crosstab(df1['Income_Inc'], df1['Target']).plot(kind='bar', stacked=True)\n",
    "pd.crosstab(df1['Income_Inc'], df1['Target'],margins = True,normalize='all').round(4)*100"
   ]
  },
  {
   "cell_type": "code",
   "execution_count": 80,
   "id": "d65384c6",
   "metadata": {},
   "outputs": [
    {
     "data": {
      "text/plain": [
       "<AxesSubplot:xlabel='Education_Level'>"
      ]
     },
     "execution_count": 80,
     "metadata": {},
     "output_type": "execute_result"
    },
    {
     "data": {
      "image/png": "[encoded data removed]",
      "text/plain": [
       "<Figure size 432x288 with 1 Axes>"
      ]
     },
     "metadata": {},
     "output_type": "display_data"
    }
   ],
   "source": [
    "sns.set(rc={'figure.figsize':(6,4)})\n",
    "pd.crosstab(df1['Education_Level'], df1['Target']).plot(kind='bar', stacked=True)"
   ]
  },
  {
   "cell_type": "code",
   "execution_count": 81,
   "id": "e312d11c",
   "metadata": {},
   "outputs": [
    {
     "data": {
      "image/png": "[encoded data removed]",
      "text/plain": [
       "<Figure size 792x288 with 3 Axes>"
      ]
     },
     "metadata": {},
     "output_type": "display_data"
    }
   ],
   "source": [
    "sns.set(rc={'figure.figsize':(11,4)})\n",
    "names = df1[['Total Business Value','Income','Age']].columns\n",
    "ncols = len(names)\n",
    "fig, axes = plt.subplots(1,3)\n",
    "plt.subplots_adjust(wspace=0.4)\n",
    "for name, ax in zip(names, axes.flatten()):\n",
    "    sns.boxplot(y=name, x= \"Target\", data=df1, orient='v', ax=ax)"
   ]
  },
  {
   "cell_type": "markdown",
   "id": "4b1d3d7a",
   "metadata": {},
   "source": [
    "# `Actionable Insights & Recommendations`"
   ]
  },
  {
   "cell_type": "markdown",
   "id": "99405418",
   "metadata": {},
   "source": [
    "1.\tDrivers who left have negligible salary hike.\n",
    "2.\tDrivers who left have lesser income median as compare to who did not exit.\n",
    "3.\tTotal Business Value generated by non-churn drivers much higher than churn drivers.\n",
    "4.\tGrade ‘1’ drivers churn more than other Grade drivers.\n",
    "5.\tAge do not have much impact on driver churn. \n",
    "6.\tCity, Education_Level also not have much impact on driver churn. \n",
    "<br>\n",
    "<br>\n",
    "7.\tAdditional info is required to make more accurate prediction like <br>\n",
    "    •\tHours spent in driving<br>\n",
    "    •\tMiles covered per day<br>\n",
    "    •\tClimate Temperature <br>\n",
    "    •\tAverage min per trip <br>\n",
    "8. Salary increment would help retain more drivers.\n",
    "9. Lunch food coupons will also help in stopping driver churn.\n",
    "10. More Proactive counselling will help better understand concerns of drivers."
   ]
  },
  {
   "cell_type": "code",
   "execution_count": null,
   "id": "eccda98d",
   "metadata": {},
   "outputs": [],
   "source": []
  },
  {
   "cell_type": "code",
   "execution_count": null,
   "id": "eb262c83",
   "metadata": {},
   "outputs": [],
   "source": []
  },
  {
   "cell_type": "code",
   "execution_count": null,
   "id": "87c6986d",
   "metadata": {},
   "outputs": [],
   "source": []
  }
 ],
 "metadata": {
  "kernelspec": {
   "display_name": "Python 3 (ipykernel)",
   "language": "python",
   "name": "python3"
  },
  "language_info": {
   "codemirror_mode": {
    "name": "ipython",
    "version": 3
   },
   "file_extension": ".py",
   "mimetype": "text/x-python",
   "name": "python",
   "nbconvert_exporter": "python",
   "pygments_lexer": "ipython3",
   "version": "3.9.7"
  }
 },
 "nbformat": 4,
 "nbformat_minor": 5
}
